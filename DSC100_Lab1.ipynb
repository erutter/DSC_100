{
 "cells": [
  {
   "cell_type": "markdown",
   "id": "30fff9eb-87c9-420c-8bee-7234e7c53611",
   "metadata": {},
   "source": [
    "# Introduction to Python for Computing and Data"
   ]
  },
  {
   "cell_type": "markdown",
   "id": "ae525786-e415-4047-b198-e40900b788a0",
   "metadata": {},
   "source": [
    "Welcome to the first lab for DSC 100. Below, find some basic information about python coding with examples for you to try."
   ]
  },
  {
   "cell_type": "markdown",
   "id": "289d350a-249e-4d7c-b27a-b7e0b4278aab",
   "metadata": {},
   "source": [
    "# Defining Variables"
   ]
  },
  {
   "cell_type": "markdown",
   "id": "f29b7f4c-c1ea-48dc-a18d-0017c63968d4",
   "metadata": {},
   "source": [
    "Let’s start by defining more formally what a variable is:\n",
    "\n",
    "**Variable**\n",
    "\n",
    "    A variable is used to store information that can be referenced later on.\n",
    "    \n",
    "So, a variable is what we use to name the result of a calculation we make. In other words, we can assign the result of that calculation to a variable. We can create an unlimited number of variables; we just have to make sure we give them unique names."
   ]
  },
  {
   "cell_type": "markdown",
   "id": "1c8531e9-8952-40d9-8c0a-ee80cfef2420",
   "metadata": {},
   "source": [
    "Suppose we want to create a variable, called my_result, that stores the result of multiplying 3 by 5. Let's first check to make sure there is no existing variable in python with that name:"
   ]
  },
  {
   "cell_type": "code",
   "execution_count": 3,
   "id": "1d04abe4-d43e-43f3-8e9a-f979cf8a6040",
   "metadata": {},
   "outputs": [
    {
     "data": {
      "text/plain": [
       "10"
      ]
     },
     "execution_count": 3,
     "metadata": {},
     "output_type": "execute_result"
    }
   ],
   "source": [
    "my_result"
   ]
  },
  {
   "cell_type": "markdown",
   "id": "007634b3-fb9c-4049-87a0-ee522259c017",
   "metadata": {},
   "source": [
    "This is the way Python lets you know about errors. Ignore the first two lines and focus on the actual error instead. Python reports: \n",
    "\n",
    "name 'my_result' is not defined. \n",
    "\n",
    "Python errors tend to be very helpful if you know where to look. That’s why I wanted to show you one. Eventually, you’ll need to write code on your own, and running into errors is, unfortunately, a big part of the job. Being able to decipher error messages will be a useful skill!"
   ]
  },
  {
   "cell_type": "markdown",
   "id": "3caf8fc1-fe87-4c4a-986a-1c19f5ff6d99",
   "metadata": {},
   "source": [
    "Now, let's declare my_result and try the command again:"
   ]
  },
  {
   "cell_type": "code",
   "execution_count": 4,
   "id": "17200196-9896-4c08-8a67-acea8b582312",
   "metadata": {},
   "outputs": [
    {
     "data": {
      "text/plain": [
       "15"
      ]
     },
     "execution_count": 4,
     "metadata": {},
     "output_type": "execute_result"
    }
   ],
   "source": [
    "my_result=3*5\n",
    "my_result"
   ]
  },
  {
   "cell_type": "markdown",
   "id": "2fc6f1d9-6273-4999-8b8b-6650e418de87",
   "metadata": {},
   "source": [
    "Step by step, this is what happens:\n",
    "\n",
    "1. Python sees a so-called assignment: we assign the result of 3 * 5 to the variable called my_result. Assignments are done with the ‘=’ character, which is conveniently called ‘is’. So we just told Python: I declare that my_result is the result of the expression 3 * 5.\n",
    "2. Next, we type my_result.\n",
    "Python does not recognize this as a command, so it tries to see if, perhaps, there’s a variable with this name. There is, and we assigned 15 to it. Hence this line evaluates to the number 15, which is printed on the screen."
   ]
  },
  {
   "cell_type": "markdown",
   "id": "3f7a95fb-602c-4f5e-8410-844cd0349b49",
   "metadata": {},
   "source": [
    "### Using variables for calculations"
   ]
  },
  {
   "cell_type": "markdown",
   "id": "79bec38d-00bb-4145-8ab4-2e433f7fa192",
   "metadata": {},
   "source": [
    "Now that you have a variable defined, you can use it for calculations. For example, you can calculate 4*my_result"
   ]
  },
  {
   "cell_type": "code",
   "execution_count": 1,
   "id": "77b0306c-8a7a-4d6f-b07d-e4eb7944ba0c",
   "metadata": {},
   "outputs": [
    {
     "ename": "NameError",
     "evalue": "name 'my_result' is not defined",
     "output_type": "error",
     "traceback": [
      "\u001b[0;31m---------------------------------------------------------------------------\u001b[0m",
      "\u001b[0;31mNameError\u001b[0m                                 Traceback (most recent call last)",
      "Cell \u001b[0;32mIn[1], line 1\u001b[0m\n\u001b[0;32m----> 1\u001b[0m \u001b[38;5;241m4\u001b[39m\u001b[38;5;241m*\u001b[39m\u001b[43mmy_result\u001b[49m\n",
      "\u001b[0;31mNameError\u001b[0m: name 'my_result' is not defined"
     ]
    }
   ],
   "source": [
    "4*my_result"
   ]
  },
  {
   "cell_type": "markdown",
   "id": "d748af76-7f7a-400f-816d-3aac868fbccd",
   "metadata": {},
   "source": [
    "### A note on variable naming"
   ]
  },
  {
   "cell_type": "markdown",
   "id": "bf2d2c5b-6b0f-470c-873b-def61922bfc2",
   "metadata": {},
   "source": [
    "In the example, we picked the general name result, but you can choose any name you deem appropriate. Generally, always pick a variable name that best describes its contents. This practice makes your code more readable and easy to understand. If we were calculating the total price of a shopping cart here, for example, a good name would be shopping_cart_total. Avoid the temptation to shorten or abbreviate variable names. Often it is important for **someone else** to be able to read and understand your code.\n",
    "\n",
    "There are some rules to assigning variable names. Variable names can be made up of the following characters:\n",
    "1. Lowercase and uppercase letters\n",
    "2. Numbers (0-9)\n",
    "3. Underscores _\n",
    "\n",
    "Variable names must begin with a letter or underscore (they cannot begin with a number). \n",
    "\n",
    "Varaible names are **case sensitive**. What happens if you try to print My_result?"
   ]
  },
  {
   "cell_type": "code",
   "execution_count": null,
   "id": "b6dccd50-b7d6-4da5-abc1-5394df50f2f5",
   "metadata": {},
   "outputs": [],
   "source": [
    "My_result"
   ]
  },
  {
   "cell_type": "markdown",
   "id": "0c7c9a9c-23a1-45ac-8a4c-5688ee551008",
   "metadata": {},
   "source": [
    "### Variable types in python"
   ]
  },
  {
   "cell_type": "markdown",
   "id": "f9b9bafc-eb86-4e79-941b-60609bf8a0bb",
   "metadata": {},
   "source": [
    "Variables do not have to be numbers. There are many different data types  (e.g. strings, booleans, tuples). To see what data type your variable is, you can use the 'type' command. Below, see what 'type' my_result is. Does this make sense to you?"
   ]
  },
  {
   "cell_type": "code",
   "execution_count": null,
   "id": "ea4a2a64-d42c-42c8-90bf-612278fcdc66",
   "metadata": {},
   "outputs": [],
   "source": [
    "type(my_result)"
   ]
  },
  {
   "cell_type": "markdown",
   "id": "e82f5dd8-a463-419d-9e43-346a057333d1",
   "metadata": {
    "jp-MarkdownHeadingCollapsed": true
   },
   "source": [
    "# Data Types in Python"
   ]
  },
  {
   "cell_type": "markdown",
   "id": "601197fe-fd80-479d-88b6-dc2e9eedc184",
   "metadata": {},
   "source": [
    "Variables do not have to be numbers. There are many different data types in python"
   ]
  },
  {
   "cell_type": "markdown",
   "id": "7d2ceec7-8aa3-45f8-9d15-8ebe47609ed1",
   "metadata": {},
   "source": [
    "## Strings"
   ]
  },
  {
   "cell_type": "markdown",
   "id": "0190cff8-f1a1-4d8e-bbd9-87969693d42d",
   "metadata": {},
   "source": [
    "The following is a formal definition of a Python string:\n",
    "\n",
    "**String**\n",
    "\n",
    "    A string is a sequence of characters\n",
    "    \n",
    "In even simpler terms, a string is a piece of text. Strings are not just a Python thing. It’s a well-known term in computer science and means the same thing in most other languages. Now that we know a string, we’ll look at how to create one."
   ]
  },
  {
   "cell_type": "markdown",
   "id": "9049a84f-ba4a-418f-a139-8809779f59d1",
   "metadata": {},
   "source": [
    "To define a string, you need quotes around it (single or double quotes are fine). An example string is provided below"
   ]
  },
  {
   "cell_type": "code",
   "execution_count": 2,
   "id": "18333645-f2ed-4fd3-9fe2-7aab959ea7c4",
   "metadata": {},
   "outputs": [
    {
     "data": {
      "text/plain": [
       "'Hello, World'"
      ]
     },
     "execution_count": 2,
     "metadata": {},
     "output_type": "execute_result"
    }
   ],
   "source": [
    "\"Hello, World\""
   ]
  },
  {
   "cell_type": "markdown",
   "id": "370862f9-1af7-4712-9ad6-9e31154cafc4",
   "metadata": {},
   "source": [
    "There are several commands that you may use for strings. One example is to find the lenght of the string (hopw many characters are in the string). To do this, you can use the len function. Does it match with what you expect the length of the string to be?"
   ]
  },
  {
   "cell_type": "code",
   "execution_count": 3,
   "id": "ab1dd659-7873-44eb-8871-703926da5cf9",
   "metadata": {},
   "outputs": [
    {
     "data": {
      "text/plain": [
       "12"
      ]
     },
     "execution_count": 3,
     "metadata": {},
     "output_type": "execute_result"
    }
   ],
   "source": [
    "len('Hello, World')"
   ]
  },
  {
   "cell_type": "markdown",
   "id": "a170fc56-de06-4300-b602-d906be98c7a3",
   "metadata": {},
   "source": [
    "One of the more useful commands that you might use is to parse strings. For example, if we have a sentence, we may want to split out the exact words. To do this, we can use the 'split' command. Essentially, it will split a string into pieces. If no argument is provided, it will split based on white space. Or you can provide an argument such that it splits on a specific string (e.g., 'c', or ','). Below, we split our 'Hello, World' string on the default space. What do you expect it to output. Were you correct?"
   ]
  },
  {
   "cell_type": "code",
   "execution_count": 4,
   "id": "fd556b71-07fa-4eea-abcd-caae2f963c87",
   "metadata": {},
   "outputs": [
    {
     "data": {
      "text/plain": [
       "['Hello,', 'World']"
      ]
     },
     "execution_count": 4,
     "metadata": {},
     "output_type": "execute_result"
    }
   ],
   "source": [
    "\"Hello, World\".split()"
   ]
  },
  {
   "cell_type": "markdown",
   "id": "e38a1333-7c5f-4249-8178-d3f36f013fe0",
   "metadata": {},
   "source": [
    "Let's say that instead, you wanted to split on all 'l's. What is your expected output? Did your output match what you expected?"
   ]
  },
  {
   "cell_type": "code",
   "execution_count": null,
   "id": "16e69bc8-f9dd-4738-99aa-9bd497df667d",
   "metadata": {},
   "outputs": [],
   "source": [
    "# Put in split on the character l here."
   ]
  },
  {
   "cell_type": "markdown",
   "id": "47c7faba-2925-4838-8d3a-78a476b86df6",
   "metadata": {},
   "source": [
    "It may be useful to also replace parts of strings to make it easier to analyze data. For example, some datasets may be inconsistent with captialization or sometimes use spaces and sometimes use underscoring. \n",
    "\n",
    "Below is an exmaple of replacing the \"Hello world\" string with all lowercases:"
   ]
  },
  {
   "cell_type": "code",
   "execution_count": 5,
   "id": "11bb2d6f-8c79-489d-8a6e-757ec45cff7e",
   "metadata": {},
   "outputs": [
    {
     "data": {
      "text/plain": [
       "'hello world'"
      ]
     },
     "execution_count": 5,
     "metadata": {},
     "output_type": "execute_result"
    }
   ],
   "source": [
    "'Hello world'.replace('H','h')"
   ]
  },
  {
   "cell_type": "markdown",
   "id": "a65c340d-b520-457d-af91-ef6cd826a769",
   "metadata": {},
   "source": [
    "Try it yourself! Can you replace the space in 'Hello World' so that it returns 'Hello_World'?"
   ]
  },
  {
   "cell_type": "code",
   "execution_count": null,
   "id": "517ecbf2-2f6a-4f68-be0f-85a198d34d9e",
   "metadata": {},
   "outputs": [],
   "source": []
  },
  {
   "cell_type": "markdown",
   "id": "835dee58-ac28-4f18-b04a-a8fd9e419ccc",
   "metadata": {},
   "source": [
    "## Booleans"
   ]
  },
  {
   "cell_type": "markdown",
   "id": "485f9ead-5a3e-40eb-91bf-34fd400436fa",
   "metadata": {},
   "source": [
    "Boolean variables are extremely useful, but also very simple. Essentially they are either true or false. Booleans, in combination with Boolean operators, make it possible to create conditional programs: programs that decide to do different things, based on certain conditions.\n",
    "\n",
    "Let’s start with a definition:\n",
    "\n",
    "**Boolean**\n",
    "\n",
    "    A boolean is the simplest data type; it’s either True or False.\n",
    "    \n",
    "In computer science, booleans are used a lot. This has to do with how computers work internally. Many operations inside a computer come down to a simple “true or false.” It’s important to note, that in Python a Boolean value starts with an upper-case letter: True or False. This is in contrast to most other programming languages, where lower-case is the norm.\n",
    "\n",
    "We can use booleans in combination with conditional statements to create flows in programs. For example, we can define the variable door_is_locked as True "
   ]
  },
  {
   "cell_type": "code",
   "execution_count": 6,
   "id": "c55caee8-355e-4583-91bc-6f4a339c4555",
   "metadata": {},
   "outputs": [],
   "source": [
    "door_is_locked = True"
   ]
  },
  {
   "cell_type": "markdown",
   "id": "ab38728a-c569-44a6-8df5-eee5b5652032",
   "metadata": {},
   "source": [
    "Then we can use an if statement to evaluate. Look at the following code. Can you predict what it is going to do?"
   ]
  },
  {
   "cell_type": "code",
   "execution_count": 9,
   "id": "31aeba79-828c-41fb-9a91-ce1d04eb74b2",
   "metadata": {},
   "outputs": [
    {
     "name": "stdout",
     "output_type": "stream",
     "text": [
      "Please open the door!\n"
     ]
    }
   ],
   "source": [
    "if door_is_locked:\n",
    "    print(\"Please open the door!\")"
   ]
  },
  {
   "cell_type": "markdown",
   "id": "7514591f-5fe0-4a49-97cc-0ef59ff24b40",
   "metadata": {},
   "source": [
    "Let's explain the coode. We start with an if-statement. This is a so-called conditional statement. It is followed by an expression that can evaluate to either True or False. If the expression evaluates to True, the block of code that follows is executed. If it evaluates to False, it is skipped. Go ahead and change door_is_locked to False to see what happens.\n",
    "\n",
    "An if statement can be followed by an optional else block. The block will be executed only when the expression evaluates to False. Create an if/else block that buids on the previous if statement. If door_is_locked is False, print \"Let's go outside\"."
   ]
  },
  {
   "cell_type": "markdown",
   "id": "f4d5894d-97c7-4821-8843-b198e86f11f5",
   "metadata": {},
   "source": [
    "door_is_locked = False\n",
    "if door_is_locked:\n",
    "    print(\"Please open the door!\")"
   ]
  },
  {
   "cell_type": "markdown",
   "id": "824e6ac7-da0c-4709-9b16-5ee65693a61c",
   "metadata": {},
   "source": [
    "## Python Operators"
   ]
  },
  {
   "cell_type": "markdown",
   "id": "c129ea3a-4d51-4562-b35e-4785185c9d4a",
   "metadata": {},
   "source": [
    "The ability to use conditions is what makes computers tick; they make your software smart and allow it to change its behavior based on external input. We’ve used True directly so far, but more expressions evaluate to either True or False. These expressions often include a so-called operator.\n",
    "\n",
    "There are multiple types of operators, and for now, we’ll only look at these:\n",
    "\n",
    "1. Comparison operators: they compare two values to each other\n",
    "2. Logical operators"
   ]
  },
  {
   "cell_type": "markdown",
   "id": "74f75810-8f21-4e51-8470-e5428b43d17a",
   "metadata": {},
   "source": [
    "### Comparison Operators"
   ]
  },
  {
   "cell_type": "markdown",
   "id": "8844ff2e-925d-4eb2-8925-af99972d3c23",
   "metadata": {},
   "source": [
    "Comparison operators are given by the following:\n",
    "\n",
    "| Operator | Meaning | \n",
    "| :-: | :-: |\n",
    "| > | greater than |\n",
    "| < | less than |\n",
    "| >= | greater than or equal to|\n",
    "| <= | less than or equal to|\n",
    "| == | is equal |\n",
    "| !- | is not equal |\n",
    "\n",
    "Look at the following statements. Can you predict which are true and which are false? Are there any that confuse you?"
   ]
  },
  {
   "cell_type": "code",
   "execution_count": 15,
   "id": "90e7652f-1757-4034-b0d4-0d6f3f332758",
   "metadata": {},
   "outputs": [
    {
     "name": "stdout",
     "output_type": "stream",
     "text": [
      "True\n",
      "False\n",
      "True\n",
      "True\n",
      "True\n",
      "True\n",
      "True\n",
      "True\n",
      "True\n",
      "False\n",
      "True\n",
      "True\n",
      "True\n"
     ]
    }
   ],
   "source": [
    "print(2>1)\n",
    "print(2<1)\n",
    "print(2<3<4<5<6)\n",
    "print(2<3>2)\n",
    "print(3<=3)\n",
    "print(3>=2)\n",
    "print(2==2)\n",
    "print(4!=5)\n",
    "print('a'==\"a\")\n",
    "print('a'>'b')\n",
    "print('a'<'b')\n",
    "print('M'<'m')\n",
    "print('1'<'a')"
   ]
  },
  {
   "cell_type": "markdown",
   "id": "61e34026-18a0-40f2-a716-e9bced00e415",
   "metadata": {},
   "source": [
    "### Logical Operators"
   ]
  },
  {
   "cell_type": "markdown",
   "id": "d2a6f3f4-1407-4697-b334-812a896d2fcd",
   "metadata": {},
   "source": [
    "Comparison operators are given by the following:\n",
    "\n",
    "| Operator | What it does | Examples\n",
    "| :-: | :-: | :-: |\n",
    "| and | True if both statements are true |True and False == False<br>False and False == False <br> True and True == True\n",
    "| or | True if ONE statement is true|True or False == True<br> True or True == True<br> False or False == False\n",
    "| not | Negates following statement| not True == False<br> not False == True\n",
    "\n"
   ]
  },
  {
   "cell_type": "markdown",
   "id": "606c6ba1-a725-4071-b9cd-4b323214a356",
   "metadata": {
    "jp-MarkdownHeadingCollapsed": true
   },
   "source": [
    "# Conditional Programming (If/Else Statements)"
   ]
  },
  {
   "cell_type": "markdown",
   "id": "8f93b154-451f-4921-b3f8-43a8c852087c",
   "metadata": {},
   "source": [
    "We saw an example of if/else statements above. However, these were only for two cases (if/else). Sometimes, you want to be able to check multiple conditions. In these types of cases, you can use if, elif, and else. \n",
    "\n",
    "Note that python reads statements *sequentially*, so it will only enter the statement which is true first. For example see the code below"
   ]
  },
  {
   "cell_type": "code",
   "execution_count": null,
   "id": "5efe26be-b648-490f-a174-f2247fe4f26d",
   "metadata": {},
   "outputs": [],
   "source": [
    "if temperature > 30:\n",
    "    print(\"Today is too hot!\")\n",
    "elif temperature > 20:\n",
    "    print(\"It's a pleasant day.\")\n",
    "else:\n",
    "    print(\"Brrr! It's chilly.\")"
   ]
  },
  {
   "cell_type": "markdown",
   "id": "72e58cd3-ae1d-4f56-b430-5a001dcdcd33",
   "metadata": {},
   "source": [
    "What do you think will happen if you put in \"temperature = 35\"? Which statement(s) will it print out and why? Test it out below"
   ]
  },
  {
   "cell_type": "markdown",
   "id": "deae9f6f-cd8a-40c5-8c94-4a09b88749da",
   "metadata": {},
   "source": [
    "Try it out for yourself. Write if/elif/else statements to print a letter grade (A, B, C, D, F) based on the value of my_grade. These should follow standard letter grades. Test your code with several values of my_grade."
   ]
  },
  {
   "cell_type": "code",
   "execution_count": null,
   "id": "97b9dd3f-d049-47fb-831b-5dc854908755",
   "metadata": {},
   "outputs": [],
   "source": [
    "#\n",
    "\n",
    "score = # put in your test value \n",
    "\n",
    "if score ...:\n",
    "    print(\"Grade: A\")\n"
   ]
  },
  {
   "cell_type": "markdown",
   "id": "25fb2458-2471-4d57-af94-8922d7b1407e",
   "metadata": {
    "jp-MarkdownHeadingCollapsed": true
   },
   "source": [
    "# For and While Loops"
   ]
  },
  {
   "cell_type": "markdown",
   "id": "5e15ef52-9bad-40ad-9014-07cb7ae103c7",
   "metadata": {},
   "source": [
    "We learned how we can change the flow of our program with the conditional statements if and else. Another way to control the flow is by using a Python for-loop or a Python while-loop. Loops, in essence, allow you to repeat a piece of code."
   ]
  },
  {
   "cell_type": "markdown",
   "id": "7e0f5900-3843-4a62-890d-c2c60a6e9fd9",
   "metadata": {},
   "source": [
    "## For Loops"
   ]
  },
  {
   "cell_type": "markdown",
   "id": "2799e343-d537-4132-9986-d8b4c9310cf9",
   "metadata": {},
   "source": [
    "A for-loop iterates over the individual elements of the object you feed it. If that sounds difficult, an example will hopefully clarify this:"
   ]
  },
  {
   "cell_type": "code",
   "execution_count": 1,
   "id": "aa38fcc8-2ace-4cf2-bfd0-bcbf730d1b41",
   "metadata": {},
   "outputs": [
    {
     "name": "stdout",
     "output_type": "stream",
     "text": [
      "H\n",
      "e\n",
      "l\n",
      "l\n",
      "o\n"
     ]
    }
   ],
   "source": [
    "for letter in 'Hello':\n",
    "    print(letter)"
   ]
  },
  {
   "cell_type": "markdown",
   "id": "b2be58ed-c026-4ec0-8cf7-acab6c3f1815",
   "metadata": {},
   "source": [
    "We stumbled upon two concepts here that need an explanation: iterability and objects.\n",
    "\n",
    "**Iterable**\n",
    "\n",
    "    An iterable is an object in Python that can return its members one at a time.\n",
    "    \n",
    "As you can see in the example code, a string of text is iterable. Most of Python’s data types are iterable in some way or another.\n",
    "\n",
    "The next thing we need to tackle: objects. It’s enough to know that everything in Python is an object, and objects have a certain type and certain properties. Being iterable is one of those properties.\n",
    "\n",
    "So we know that a for-loop can loop over iterable objects. By returning its members one by one, making it available in a variable (in the above example it’s the variable letter), you can loop over each element of an iterable with a for-statement.\n",
    "\n",
    "The general template for a for-loop in Python is:\n",
    "\n",
    "``` \n",
    "for <variable> in <iterable>:\n",
    "    ... do something with variable\n",
    "```   \n",
    "On each iteration, an element from iterable is assigned to variable. This variable exists and can be used only inside the loop. Once there is nothing more left, the loop stops and the program continues with the next lines of code.\n",
    "\n"
   ]
  },
  {
   "cell_type": "markdown",
   "id": "437f5b2a-d280-41e1-8931-4c91df39ebdb",
   "metadata": {},
   "source": [
    "Let's create a for loop that prints the numbers 0, 1, 2, 3. We will use the ```range``` function in python which generate a sequence of numbers (which will be our iterable). "
   ]
  },
  {
   "cell_type": "code",
   "execution_count": 3,
   "id": "0fca5401-05d7-4154-956e-ab1af805e867",
   "metadata": {},
   "outputs": [
    {
     "name": "stdout",
     "output_type": "stream",
     "text": [
      "0\n",
      "1\n",
      "2\n",
      "3\n"
     ]
    }
   ],
   "source": [
    "for i in range(4):\n",
    "    print(i)"
   ]
  },
  {
   "cell_type": "markdown",
   "id": "a644889e-4459-4a67-8c57-cdd9880534b1",
   "metadata": {},
   "source": [
    "## While Loops"
   ]
  },
  {
   "cell_type": "markdown",
   "id": "68fc0b4a-c7da-4bf5-9035-3c867deeac29",
   "metadata": {},
   "source": [
    "While the for-loop in Python is a bit hard to understand, because of new concepts like iterability and objects, the while loop is actually much simpler! Its template looks like this:\n",
    "```\n",
    "while <expression evaluates to True>:\n",
    "    do something\n",
    "```   \n",
    "You should read this as: “while this expression evaluates to True, keep doing the stuff below”.\n",
    "\n",
    "Let’s take a look at an actual example:\n",
    "\n"
   ]
  },
  {
   "cell_type": "code",
   "execution_count": 5,
   "id": "cfc7457f-0f51-47ec-8c25-482dbdec3605",
   "metadata": {},
   "outputs": [
    {
     "name": "stdout",
     "output_type": "stream",
     "text": [
      "0\n",
      "1\n",
      "2\n",
      "3\n"
     ]
    }
   ],
   "source": [
    "i = 0\n",
    "while i<4:\n",
    "    print(i)\n",
    "    i=i+1"
   ]
  },
  {
   "cell_type": "markdown",
   "id": "c1c428d9-d0f0-4025-a3e9-93f0c2435025",
   "metadata": {},
   "source": [
    "We see an expression that follows the while statement: i < 4. As long as this expression evaluates to True, the block inside of the while-loop executes repeatedly.\n",
    "\n",
    "In the example above, we start with i = 0. In the first iteration of the loop, we print i and increase it by one. This keeps happening as long as i is smaller than 4. The output of the print statement confirms that this loop runs four times."
   ]
  },
  {
   "cell_type": "markdown",
   "id": "7ca4e322-7e19-411f-89ab-c376f8f07e47",
   "metadata": {},
   "source": [
    "Why do we need the ```i=i+1``` in the while loop? What would happen if you took it out?"
   ]
  },
  {
   "cell_type": "code",
   "execution_count": null,
   "id": "0821c9d1-f6ea-4d99-bbbc-58293abb43cf",
   "metadata": {},
   "outputs": [],
   "source": [
    "i = 0\n",
    "while i<4:\n",
    "    print(i)"
   ]
  },
  {
   "cell_type": "markdown",
   "id": "d67b3ac5-3277-442d-a44d-6d8164fe312d",
   "metadata": {},
   "source": [
    "This is called an infinite loop. Remember that while takes an expression, and keeps repeating the code as long as that expression evaluates to True. Since we are not changing the value of i, it is always staying at zero which is is always less than 4, so this loop never stops."
   ]
  },
  {
   "cell_type": "markdown",
   "id": "a5cec897-684c-49ab-b165-f185ae7cc7a1",
   "metadata": {},
   "source": [
    "You will notice that we obtained the same output from our ```for``` and ```while``` loops. Sometimes, you can use them somewhat interchangeably. Think about cases in which you might use one loop over the other."
   ]
  },
  {
   "cell_type": "markdown",
   "id": "28268706-480c-4490-aca4-14a8c45a705e",
   "metadata": {
    "jp-MarkdownHeadingCollapsed": true
   },
   "source": [
    "# Creating Functions in Python"
   ]
  },
  {
   "cell_type": "markdown",
   "id": "2ee1c411-04b2-42d3-82ba-e33e007acb3e",
   "metadata": {},
   "source": [
    "Let’s define what a function is, exactly:\n",
    "\n",
    "**Function**\n",
    "\n",
    "    A Python function is a named section of a program that performs a specific task and, optionally, returns a value\n",
    "\n",
    "  \n",
    "Functions are the real building blocks of any programming language. We define a Python function with the ```def``` keyword. But before we start doing so, let’s first go over the advantages of functions, and let’s look at some built-in functions that you might already know.\n",
    "\n",
    "**Advantages of using functions**\n",
    "\n",
    "1. Code reuse\n",
    "A Python function can be defined once and used many times. So it aids in code reuse: you don’t want to write the same code more than once. Functions are a great way to keep your code short, concise, and readable. By giving a function a well-chosen name, your code will become even more readable because the function name directly explains what will happen. This way, others (or future you) can read your code, and without looking at all of it, understand what it’s doing anyway because of the well-chosen function names. Other forms of code reuse are modules and packages.\n",
    "\n",
    "2. Parameters\n",
    "Functions accept a parameter, and you’ll see how this works in a moment. The big advantage here, is that you can alter the function’s behavior by changing the parameter.\n",
    "\n",
    "3. Return values\n",
    "A function can return a value. This value is often the result of some calculation or operation. In fact, a Python function can even return multiple values.\n",
    "\n",
    "**Built-in Functions** \n",
    "\n",
    "We've already seen some built-in functions for python. Let’s start with the most well-known built-in function, called ```print```:"
   ]
  },
  {
   "cell_type": "code",
   "execution_count": 7,
   "id": "b932d872-44e4-4ea1-a0c2-217da1e28e10",
   "metadata": {},
   "outputs": [
    {
     "name": "stdout",
     "output_type": "stream",
     "text": [
      "Good Morning!\n"
     ]
    }
   ],
   "source": [
    "print('Good Morning!')"
   ]
  },
  {
   "cell_type": "markdown",
   "id": "829a75cb-bd08-46d7-b016-ce3d30929c28",
   "metadata": {},
   "source": [
    "```Print``` takes an argument and prints it to the screen.\n",
    "\n",
    "As stated in our definition, functions can optionally return a value. However, print does not return anything. Because it prints something to the screen, it might look like it does, but it doesn’t.\n",
    "\n",
    "Another built-in function that does return a value is ```len()```. It returns the length of whatever you feed it:"
   ]
  },
  {
   "cell_type": "code",
   "execution_count": 8,
   "id": "0ab5a22b-db4f-4e21-9b58-779a773c9cda",
   "metadata": {},
   "outputs": [
    {
     "name": "stdout",
     "output_type": "stream",
     "text": [
      "5\n"
     ]
    }
   ],
   "source": [
    "mylength = len('Hello')\n",
    "print(mylength)"
   ]
  },
  {
   "cell_type": "markdown",
   "id": "1c10dad5-1bce-4441-9d1f-0ca461c7711c",
   "metadata": {},
   "source": [
    "## Creating a Python Function"
   ]
  },
  {
   "cell_type": "markdown",
   "id": "11197695-b56a-42e3-8ede-ca849278eefb",
   "metadata": {},
   "source": [
    "Now that we know how to use a function, let’s create a simple one ourselves. To do so, we use Python’s ```def``` keyword:"
   ]
  },
  {
   "cell_type": "code",
   "execution_count": null,
   "id": "45c62429-3d7e-4c8c-9207-c661dcc68190",
   "metadata": {},
   "outputs": [],
   "source": [
    "def say_hi():\n",
    "    print('Hi!')"
   ]
  },
  {
   "cell_type": "markdown",
   "id": "c406758f-a2e0-4550-b9df-b810c524f3ae",
   "metadata": {},
   "source": [
    "It’s just a few lines, but a lot is going on. Let’s dissect this:\n",
    "\n",
    "- First, we see the keyword def, which is Python’s keyword to define a function.\n",
    "- Next comes our function name, say_hi.\n",
    "- Then we encounter two parentheses, (), which indicate that this function does not accept any parameters (unlike print and len).\n",
    "- We end the line with a colon (:)\n",
    "- And finally, we bump into a feature that sets Python apart from many other programming languages: indentation.\n",
    "\n",
    "Python uses indentation to distinguish blocks of code that belong together. Consecutive lines with equal indentation are part of the same block of code. To tell Python that the following lines are the body of our function, we need to indent them. You indent lines with the TAB key on your keyboard. \n",
    "\n",
    "Back to our function: it has only one line of code in its body: the print command. After it, we hit enter one extra time to let the Python REPL know that this is the end of the function. This is important. A function must always be followed by an empty line to signal the end of the function. Finally, we can call our function with say_hi().\n",
    "\n"
   ]
  },
  {
   "cell_type": "markdown",
   "id": "d688874b-2623-4e8c-92b5-a3bfbde08cc1",
   "metadata": {},
   "source": [
    "## Creating Python function with input arguments"
   ]
  },
  {
   "cell_type": "markdown",
   "id": "f81a1ae5-d1dd-47c3-a5dc-8efcdf51374f",
   "metadata": {},
   "source": [
    "We can make this more interesting by allowing an argument to be passed to our function. Again we define a function with ```def```, but we add a variable name between the parentheses:"
   ]
  },
  {
   "cell_type": "code",
   "execution_count": 10,
   "id": "dafef43b-ba2d-4292-8da1-1e5171c243e6",
   "metadata": {},
   "outputs": [
    {
     "name": "stdout",
     "output_type": "stream",
     "text": [
      "Hi your name\n"
     ]
    }
   ],
   "source": [
    "def say_hi(name):\n",
    "    print('Hi', name)\n",
    "\n",
    "say_hi('your name')"
   ]
  },
  {
   "cell_type": "markdown",
   "id": "e5bd3d4c-1721-4963-96f0-3639d630109c",
   "metadata": {},
   "source": [
    "Our function now accepts a value, which gets assigned to the variable name. We call such variables the parameter, while the actual value we provide (‘your name’) is called the argument.\n",
    "\n",
    "**Parameters and arguments**\n",
    "\n",
    "    A Python function can have parameters. The values we pass through these parameters are called arguments.\n",
    "    \n",
    "As you can see, ```print()``` accepts multiple arguments, separated by a comma. This allows us to print both ‘hi’ and the provided name. For our convenience, ```print()``` automatically puts a space between the two strings."
   ]
  },
  {
   "cell_type": "markdown",
   "id": "f0e28e49-e5c7-4411-9f5b-a92b9520f773",
   "metadata": {},
   "source": [
    "We can also have python functions with multiple arguments"
   ]
  },
  {
   "cell_type": "code",
   "execution_count": null,
   "id": "bb275cfd-1892-4917-ac6e-33a4395a8823",
   "metadata": {},
   "outputs": [],
   "source": [
    "def welcome(name, location):\n",
    "    print(\"Hi\", name, \"welcome to\", location)"
   ]
  },
  {
   "cell_type": "markdown",
   "id": "a43ea85b-adc3-480b-879e-4133f330950d",
   "metadata": {},
   "source": [
    "What do you think this code does? Have the function welcome you to Data Science 100"
   ]
  },
  {
   "cell_type": "code",
   "execution_count": null,
   "id": "bebfcc5d-9036-49f7-b30f-454ecb34a14e",
   "metadata": {},
   "outputs": [],
   "source": [
    "# fill in the input arguments\n",
    "welcome()"
   ]
  },
  {
   "cell_type": "markdown",
   "id": "2cfacd07-0c91-464f-a287-863121170c8e",
   "metadata": {},
   "source": [
    "##  Returning values from a function"
   ]
  },
  {
   "cell_type": "markdown",
   "id": "e3ec42dd-2faf-4210-a68c-2c2927de5ce7",
   "metadata": {},
   "source": [
    "So far, our function only printed something and returned nothing. What makes functions a lot more usable is the ability to return a value. Let’s see an example of how a Python function can return a value:"
   ]
  },
  {
   "cell_type": "code",
   "execution_count": null,
   "id": "ab75af73-ef43-4499-9aaf-dc6e913707e4",
   "metadata": {},
   "outputs": [],
   "source": [
    "def add(a, b):\n",
    "    return a + b\n",
    "    \n",
    "result = add(4, 8)\n",
    "print(result)"
   ]
  },
  {
   "cell_type": "markdown",
   "id": "aac7e77f-51ef-419e-9f48-5ed963a7a36c",
   "metadata": {},
   "source": [
    "As you can see, we use the keyword ```return``` to return a value from our function. Functions that return a value can be used everywhere we can use an expression. In the above example, we can assign the returned value to the variable result.\n",
    "\n",
    "We could have used the function in an if statement as well. For example:"
   ]
  },
  {
   "cell_type": "code",
   "execution_count": null,
   "id": "f85bebab-1190-45e3-b878-b45537c50e1c",
   "metadata": {},
   "outputs": [],
   "source": [
    "if add(1, 1) == 2:\n",
    "    print(\"That's what you'd expect!\")"
   ]
  },
  {
   "cell_type": "markdown",
   "id": "537ac3c5-9426-4b2f-8248-95069ce6c574",
   "metadata": {},
   "source": [
    "## Variable scope"
   ]
  },
  {
   "cell_type": "markdown",
   "id": "e73b247e-501f-4da4-898b-1209748d594a",
   "metadata": {},
   "source": [
    "The variable name only exists inside our function. We say that the variable’s scope name is limited to the function say_hi, meaning it doesn’t exist outside of it.\n",
    "\n",
    "**Scope**\n",
    "\n",
    "    The visibility of a variable is called scope. The scope defines which parts of your program can see and use a variable.\n",
    "    \n",
    "If we define a variable at the so-called top level of a program, it is visible in all places.\n",
    "\n",
    "Let’s demonstrate this:"
   ]
  },
  {
   "cell_type": "code",
   "execution_count": 11,
   "id": "14a864cf-1c66-42dc-a965-30cd3bd35a80",
   "metadata": {},
   "outputs": [],
   "source": [
    "def say_hi():\n",
    "    print(\"Hi\", name)\n",
    "    answer = \"Hi\""
   ]
  },
  {
   "cell_type": "code",
   "execution_count": 12,
   "id": "c850806d-5ce4-45bc-ac02-c8f2e71e866b",
   "metadata": {},
   "outputs": [
    {
     "name": "stdout",
     "output_type": "stream",
     "text": [
      "Hi Your Name\n"
     ]
    }
   ],
   "source": [
    "name = 'Your Name'\n",
    "say_hi()"
   ]
  },
  {
   "cell_type": "code",
   "execution_count": 13,
   "id": "7b6295db-1481-40a5-975c-6c183dee74b3",
   "metadata": {},
   "outputs": [
    {
     "ename": "NameError",
     "evalue": "name 'answer' is not defined",
     "output_type": "error",
     "traceback": [
      "\u001b[0;31m---------------------------------------------------------------------------\u001b[0m",
      "\u001b[0;31mNameError\u001b[0m                                 Traceback (most recent call last)",
      "Cell \u001b[0;32mIn[13], line 1\u001b[0m\n\u001b[0;32m----> 1\u001b[0m \u001b[38;5;28mprint\u001b[39m(\u001b[43manswer\u001b[49m)\n",
      "\u001b[0;31mNameError\u001b[0m: name 'answer' is not defined"
     ]
    }
   ],
   "source": [
    "print(answer)"
   ]
  },
  {
   "cell_type": "markdown",
   "id": "a17551e3-85be-4e7c-97d7-6b8f5bcb35c7",
   "metadata": {},
   "source": [
    "```say_hi``` was able to use the variable *name*, as expected, because it’s a top-level variable: it is visible everywhere. However, *answer*, defined inside ```say_hi```, is not known outside of the function and causes a NameError. Python gives us an informative and detailed error: “name ‘answer’ is not defined.”\n",
    "\n"
   ]
  },
  {
   "cell_type": "markdown",
   "id": "73d51128-fd3f-44ca-ba03-358a00baa0a5",
   "metadata": {},
   "source": [
    "## Default values"
   ]
  },
  {
   "cell_type": "markdown",
   "id": "41ed2af9-fcd9-421d-933e-94ee3cc39e25",
   "metadata": {},
   "source": [
    "A compelling Python feature is the ability to provide default values for the parameters. For example, we can edit the ```welcome``` function we created above:"
   ]
  },
  {
   "cell_type": "code",
   "execution_count": 14,
   "id": "74241b9b-9435-44e0-9eb7-45f802e1f525",
   "metadata": {},
   "outputs": [],
   "source": [
    "def welcome(name='learner', location='this tutorial'):\n",
    "    print(\"Hi\", name, \"welcome to\", location)"
   ]
  },
  {
   "cell_type": "markdown",
   "id": "0e82ca21-0c50-4705-a385-f0e7a6d9a027",
   "metadata": {},
   "source": [
    "Look at the following statements and predict what they will do, then execute them. Did your predictions match up?"
   ]
  },
  {
   "cell_type": "code",
   "execution_count": 15,
   "id": "835d1c79-f3e9-4ea4-bb39-904a3e104da5",
   "metadata": {},
   "outputs": [
    {
     "name": "stdout",
     "output_type": "stream",
     "text": [
      "Hi learner welcome to this tutorial\n"
     ]
    }
   ],
   "source": [
    "welcome()"
   ]
  },
  {
   "cell_type": "code",
   "execution_count": 16,
   "id": "08350ee9-e487-47f6-b77a-b7f087c44ced",
   "metadata": {},
   "outputs": [
    {
     "name": "stdout",
     "output_type": "stream",
     "text": [
      "Hi Barbie welcome to this tutorial\n"
     ]
    }
   ],
   "source": [
    "welcome(name='Barbie')"
   ]
  },
  {
   "cell_type": "code",
   "execution_count": 17,
   "id": "b995ecaf-91f1-49f4-bc6f-8252a51c524f",
   "metadata": {},
   "outputs": [
    {
     "name": "stdout",
     "output_type": "stream",
     "text": [
      "Hi learner welcome to the jungle\n"
     ]
    }
   ],
   "source": [
    "welcome(location='the jungle')"
   ]
  },
  {
   "cell_type": "code",
   "execution_count": 18,
   "id": "d4173e65-209e-4f20-b10c-a0659ede4da6",
   "metadata": {},
   "outputs": [
    {
     "name": "stdout",
     "output_type": "stream",
     "text": [
      "Hi Barbie welcome to the jungle\n"
     ]
    }
   ],
   "source": [
    "welcome(name='Barbie',location='the jungle')"
   ]
  },
  {
   "cell_type": "markdown",
   "id": "60287dfb-32b7-4d6c-8cc9-4baa6e3e71f9",
   "metadata": {},
   "source": [
    "Because our parameters have a default value, you don’t have to fill them in. If you don’t, the default is used. If you do, you override the default with your own value.\n",
    "\n",
    "Calling Python functions while explicitly naming the parameters differs from what we did up until now. These parameters are called named parameters because we specify both the name and the value instead of just the value. Thanks to these named parameters, the order in which we supply them doesn’t matter. If you think about it, it’s the natural and only way to make default values useful.\n",
    "\n",
    "If you don’t want to use named parameters, you can. When you rely on position instead of names, you provide what we call positional parameters. The position matters, as can be seen below:"
   ]
  },
  {
   "cell_type": "code",
   "execution_count": 20,
   "id": "19223dc4-babe-4bad-bb5f-218ba906c904",
   "metadata": {},
   "outputs": [
    {
     "name": "stdout",
     "output_type": "stream",
     "text": [
      "Hi Barbie welcome to the jungle\n"
     ]
    }
   ],
   "source": [
    "welcome('Barbie','the jungle')"
   ]
  },
  {
   "cell_type": "markdown",
   "id": "936d1408-b8f0-4ead-8627-0d13d9b7a3c7",
   "metadata": {},
   "source": [
    "# Modules and Packages "
   ]
  },
  {
   "cell_type": "markdown",
   "id": "ffe91b6a-c0fe-45d1-a895-f5289dc93d5b",
   "metadata": {},
   "source": [
    "The Python import statement allows us to import a Python module. Many modules are used in datascience from ```numpy``` to do basic mathematics to ```matplotlib.pyplot``` for visualization purposes. There are several ways to import modules.\n",
    "\n",
    "Let's say you want to calculate the square root of 36, using the ```sqrt``` class from the module ```math```.\n",
    "\n",
    "1. You can import the entire math module, then call the class"
   ]
  },
  {
   "cell_type": "code",
   "execution_count": 30,
   "id": "8f30bbe9-9f7c-4963-82e1-701a5f94c9e3",
   "metadata": {},
   "outputs": [
    {
     "name": "stdout",
     "output_type": "stream",
     "text": [
      "6.0\n"
     ]
    }
   ],
   "source": [
    "import math\n",
    "print(math.sqrt(36))"
   ]
  },
  {
   "cell_type": "markdown",
   "id": "c1aac4fa-2c75-451f-a16f-e86cf74d9d99",
   "metadata": {},
   "source": [
    "2. You can import the specific function ```sqrt``` from the math module"
   ]
  },
  {
   "cell_type": "code",
   "execution_count": 31,
   "id": "9225fd10-0cd2-4a2c-b8a0-c454a3d47788",
   "metadata": {},
   "outputs": [
    {
     "name": "stdout",
     "output_type": "stream",
     "text": [
      "5.0\n"
     ]
    }
   ],
   "source": [
    "from math import sqrt\n",
    "print(sqrt(36))"
   ]
  },
  {
   "cell_type": "markdown",
   "id": "0669f5bd-8829-4ead-8618-d59ce60e04e3",
   "metadata": {},
   "source": [
    "Note that in this case, you can directly call sqrt (instead of math.sqrt). \n",
    "\n",
    "You can alwos import with an alias like ```import module_name as alias``` or ```from module_name import object_name as alias```"
   ]
  },
  {
   "cell_type": "code",
   "execution_count": 32,
   "id": "edefb687-a401-4c62-829e-89847ca84afe",
   "metadata": {},
   "outputs": [],
   "source": [
    "import numpy as np\n",
    "import matplotlib as plt"
   ]
  },
  {
   "cell_type": "markdown",
   "id": "7687f621-2908-4ff8-9ca2-a052f2ac351e",
   "metadata": {
    "jp-MarkdownHeadingCollapsed": true
   },
   "source": [
    "# Debugging"
   ]
  },
  {
   "cell_type": "markdown",
   "id": "13e4c00f-28de-4564-98d5-333f80548dbc",
   "metadata": {},
   "source": [
    "When building Python applications, it's a given that you'll run into errors. Learning to identify and fix these errors is essential for effective debugging, time-saving, and more importantly, avoiding such errors in the future.\n",
    "\n",
    "Here are a collection of frequent Python errors, their traceback messages, and their solutions. Although this list doesn't encompass all possible Python errors, it aims to acquaint you with common problems, equipping you to deal with them as they arise."
   ]
  },
  {
   "cell_type": "markdown",
   "id": "2b60924e-cae5-4a57-8e47-e1e15ab5c9c8",
   "metadata": {},
   "source": [
    "## 1. Syntax Errors"
   ]
  },
  {
   "cell_type": "markdown",
   "id": "44092684-ced1-4816-ae72-9a4db8572051",
   "metadata": {},
   "source": [
    "SyntaxError is a common error that occurs when the Python interpreter parses your code and finds incorrect code that does not conform to the syntax rules. Some common causes of SyntaxError include:\n",
    "\n",
    "- Unclosed strings\n",
    "- Indentation issues\n",
    "- Misusing the assignment operator (=)\n",
    "- Misspelling Python keywords\n",
    "- Missing brackets, parentheses, or braces\n",
    "- Using newer Python syntax on an old version of Python.\n",
    "  \n",
    "When this error occurs, a traceback is produced to help you determine where the problem is. Take the following example:"
   ]
  },
  {
   "cell_type": "code",
   "execution_count": 21,
   "id": "451dd1fb-d8df-46f2-b981-fc9b925ee619",
   "metadata": {},
   "outputs": [
    {
     "ename": "SyntaxError",
     "evalue": "invalid syntax. Perhaps you forgot a comma? (495952735.py, line 1)",
     "output_type": "error",
     "traceback": [
      "\u001b[0;36m  Cell \u001b[0;32mIn[21], line 1\u001b[0;36m\u001b[0m\n\u001b[0;31m    employees = {\"pam\" 30,\u001b[0m\n\u001b[0m                 ^\u001b[0m\n\u001b[0;31mSyntaxError\u001b[0m\u001b[0;31m:\u001b[0m invalid syntax. Perhaps you forgot a comma?\n"
     ]
    }
   ],
   "source": [
    "employees = {\"pam\" 30,\n",
    "             \"jim\": 28}\n",
    "\n",
    "for name, age in employees.items():\n",
    "    print(f\"{name.capitalize()} is {age} years old.\")"
   ]
  },
  {
   "cell_type": "markdown",
   "id": "9a88c3e2-d86a-4343-9cb9-e238b16a75da",
   "metadata": {},
   "source": [
    "On line 1, the syntax is invalid because the dictionary's first property lacks a colon (:) to separate the property \"pam\" and the value 30. When the code is executed, the following traceback is produced:\n",
    "\n",
    "The traceback message has carets (^) showing where the invalid syntax was encountered. While it sometimes might not pinpoint the exact location, it will usually hint at the issue's probable location.\n",
    "\n",
    "To address this issue, carefully consider the following information in the traceback:\n",
    "\n",
    "- File name\n",
    "- Line number\n",
    "- Location indicated by the caret (^)\n",
    "- Error message, which can offer insights into the nature of the problem.\n",
    "- The question added at the end of the error message provides valuable context.\n"
   ]
  },
  {
   "cell_type": "markdown",
   "id": "e6aa42cc-5513-4473-9b18-b639e53d8983",
   "metadata": {},
   "source": [
    "## 2. Indentation Error"
   ]
  },
  {
   "cell_type": "markdown",
   "id": "4c83e23b-b565-434d-a2a3-8fdc43a5ec4c",
   "metadata": {},
   "source": [
    "The IndentationError occurs in Python when there's an indentation issue in your code. Common causes include mixing tabs with spaces, incorrect spacing, incorrectly nested blocks, or whitespace at the beginning of a statement or file.\n",
    "\n",
    "Consider the following example:"
   ]
  },
  {
   "cell_type": "code",
   "execution_count": 22,
   "id": "7647eaa7-1070-45f7-a0ad-426cab85fda4",
   "metadata": {},
   "outputs": [
    {
     "ename": "IndentationError",
     "evalue": "expected an indented block after 'if' statement on line 1 (2839449906.py, line 2)",
     "output_type": "error",
     "traceback": [
      "\u001b[0;36m  Cell \u001b[0;32mIn[22], line 2\u001b[0;36m\u001b[0m\n\u001b[0;31m    print(\"Incorrectly indented\")\u001b[0m\n\u001b[0m    ^\u001b[0m\n\u001b[0;31mIndentationError\u001b[0m\u001b[0;31m:\u001b[0m expected an indented block after 'if' statement on line 1\n"
     ]
    }
   ],
   "source": [
    "if True:\n",
    "print(\"Incorrectly indented\")"
   ]
  },
  {
   "cell_type": "markdown",
   "id": "c2a0fdd3-7b86-44ad-9e2e-b924b3ffd462",
   "metadata": {},
   "source": [
    "Looking at the traceback shows where the error is located and provides information about the expectations."
   ]
  },
  {
   "cell_type": "markdown",
   "id": "81ed909d-629a-41d0-8e1d-0f8711122cd1",
   "metadata": {},
   "source": [
    "## 3. NameError"
   ]
  },
  {
   "cell_type": "markdown",
   "id": "7c10e315-ee4b-4268-badf-3199e1556df8",
   "metadata": {},
   "source": [
    "Python raises a NameError if you attempt to use an identifier that hasn't been defined or might be out of scope. Other potential causes of a NameError include referencing a variable before its assignment or misspelling an identifier:"
   ]
  },
  {
   "cell_type": "code",
   "execution_count": 23,
   "id": "779e5457-23ce-4dff-a41d-558657af4423",
   "metadata": {},
   "outputs": [
    {
     "ename": "NameError",
     "evalue": "name 'final_answer' is not defined",
     "output_type": "error",
     "traceback": [
      "\u001b[0;31m---------------------------------------------------------------------------\u001b[0m",
      "\u001b[0;31mNameError\u001b[0m                                 Traceback (most recent call last)",
      "Cell \u001b[0;32mIn[23], line 1\u001b[0m\n\u001b[0;32m----> 1\u001b[0m \u001b[38;5;28mprint\u001b[39m(\u001b[43mfinal_answer\u001b[49m)\n",
      "\u001b[0;31mNameError\u001b[0m: name 'final_answer' is not defined"
     ]
    }
   ],
   "source": [
    "print(final_answer)"
   ]
  },
  {
   "cell_type": "markdown",
   "id": "681ab5cf-a520-4896-a05e-741eb4c85993",
   "metadata": {},
   "source": [
    "In this example, the final_answer variable is not defined but is being accessed. As a result, Python throws an exception.\n",
    "\n",
    "To fix this problem, ensure that the variable or function name you want to use has been defined. Check for spelling errors and ensure that the variable you want to use is within the scope where it is being accessed."
   ]
  },
  {
   "cell_type": "markdown",
   "id": "eac8b669-9756-4af2-bc87-d2d2f3e04a5f",
   "metadata": {},
   "source": [
    "## 4. Value Error"
   ]
  },
  {
   "cell_type": "markdown",
   "id": "aecf6572-a884-4c38-9830-493b81e1e164",
   "metadata": {},
   "source": [
    "The ValueError exception indicates that a function received an argument of the correct data type; however, the value itself is invalid. For example, the int() method accepts only integer string like \"42\", and passing something like \"forty-two\" will yield a ValueError:"
   ]
  },
  {
   "cell_type": "code",
   "execution_count": 24,
   "id": "e28e57bf-8ab0-4466-819d-e6e6366b1ad2",
   "metadata": {},
   "outputs": [
    {
     "ename": "ValueError",
     "evalue": "invalid literal for int() with base 10: 'forty-two'",
     "output_type": "error",
     "traceback": [
      "\u001b[0;31m---------------------------------------------------------------------------\u001b[0m",
      "\u001b[0;31mValueError\u001b[0m                                Traceback (most recent call last)",
      "Cell \u001b[0;32mIn[24], line 1\u001b[0m\n\u001b[0;32m----> 1\u001b[0m num \u001b[38;5;241m=\u001b[39m \u001b[38;5;28;43mint\u001b[39;49m\u001b[43m(\u001b[49m\u001b[38;5;124;43m\"\u001b[39;49m\u001b[38;5;124;43mforty-two\u001b[39;49m\u001b[38;5;124;43m\"\u001b[39;49m\u001b[43m)\u001b[49m\n",
      "\u001b[0;31mValueError\u001b[0m: invalid literal for int() with base 10: 'forty-two'"
     ]
    }
   ],
   "source": [
    "num = int(\"forty-two\")"
   ]
  },
  {
   "cell_type": "markdown",
   "id": "233364c1-5f89-45b0-a33c-5a0d540ed841",
   "metadata": {},
   "source": [
    "To resolve this issue, provide the correct data type and value as an argument to the built-in functions. Check the documentation for the specific function you're using to ensure compliance with expected input formats."
   ]
  },
  {
   "cell_type": "markdown",
   "id": "176e4062-4eb1-4fd9-abbd-31eb4ee16543",
   "metadata": {},
   "source": [
    "## 5. Type Error"
   ]
  },
  {
   "cell_type": "markdown",
   "id": "6bdc7628-ebfa-4942-87c1-eb8f5778cdc9",
   "metadata": {},
   "source": [
    "A TypeError exception in Python indicates that you are performing an operation that is not supported or appropriate for the object data type. For example, trying to divide a string with an integer:"
   ]
  },
  {
   "cell_type": "code",
   "execution_count": 26,
   "id": "dc143526-0d39-4ec6-a6e5-7b263d803f5f",
   "metadata": {},
   "outputs": [
    {
     "ename": "TypeError",
     "evalue": "unsupported operand type(s) for /: 'str' and 'int'",
     "output_type": "error",
     "traceback": [
      "\u001b[0;31m---------------------------------------------------------------------------\u001b[0m",
      "\u001b[0;31mTypeError\u001b[0m                                 Traceback (most recent call last)",
      "Cell \u001b[0;32mIn[26], line 1\u001b[0m\n\u001b[0;32m----> 1\u001b[0m \u001b[38;5;28mprint\u001b[39m(\u001b[38;5;124;43m\"\u001b[39;49m\u001b[38;5;124;43mhello\u001b[39;49m\u001b[38;5;124;43m\"\u001b[39;49m\u001b[38;5;241;43m/\u001b[39;49m\u001b[38;5;241;43m3\u001b[39;49m)\n",
      "\u001b[0;31mTypeError\u001b[0m: unsupported operand type(s) for /: 'str' and 'int'"
     ]
    }
   ],
   "source": [
    "print(\"hello\"/3)"
   ]
  },
  {
   "cell_type": "markdown",
   "id": "c5dc8a9a-e560-489f-bf1b-7ba61b1b335c",
   "metadata": {},
   "source": [
    "This exception can also occur in situations like trying to loop over a non-iterable (such as a float or integer) or using incorrect argument types for built-in methods (like passing an integer to len(), which expects an iterable). Furthermore, calling a function with fewer arguments than required or comparing different data types can also lead to a TypeError.\n",
    "\n",
    "To avoid these errors, ensure the following:\n",
    "\n",
    "- Only iterate through iterable sequences.\n",
    "- Use arguments that match the expected types in built-in functions.\n",
    "- Supply the correct number of arguments when calling a function.\n",
    "- Compare or convert to a common type when dealing with different data types.\n"
   ]
  },
  {
   "cell_type": "markdown",
   "id": "81aeaa8c-e36b-43bd-9d10-ec94c388d7c9",
   "metadata": {},
   "source": [
    "## 6. File Not Found Error"
   ]
  },
  {
   "cell_type": "markdown",
   "id": "1045d1b5-e916-4fbd-93b8-7fca58ef77fc",
   "metadata": {},
   "source": [
    "Python throws this exception when it attempts to perform file-related operations, such as reading, writing, or deleting a file that does not exist in the given location:\n",
    "\n",
    "```\n",
    "Traceback (most recent call last):\n",
    "  File \"/home/code_samples/main.py\", line 1, in <module>\n",
    "    with open('file_does_not_exist.txt', 'r') as file:\n",
    "FileNotFoundError: [Errno 2] No such file or directory: 'file_does_not_exist.txt'\n",
    "```"
   ]
  },
  {
   "cell_type": "markdown",
   "id": "45629078-6c98-414f-9aef-de3b44f111ac",
   "metadata": {},
   "source": [
    "To fix this, ensure that the file exists at the given location. Also, double-check the file path, file extension, and take into account relative or absolute paths to the file.\n",
    "\n",
    "Often, the program might receive incorrect file paths from users, which is beyond your control. A good solution is to use a try-except block to handle the FileNotFoundError so that the program doesn't crash:"
   ]
  },
  {
   "cell_type": "code",
   "execution_count": 27,
   "id": "c93a0d68-1fd5-4e49-8b7c-1ed384a7a772",
   "metadata": {},
   "outputs": [
    {
     "name": "stdout",
     "output_type": "stream",
     "text": [
      "The file 'file_does_not_exist.txt' does not exist.\n"
     ]
    }
   ],
   "source": [
    "file_path = 'file_does_not_exist.txt'\n",
    "\n",
    "try:\n",
    "    with open(file_path, 'r') as file:\n",
    "        content = file.read()\n",
    "    # Additional file processing code can go here\n",
    "except FileNotFoundError:\n",
    "    print(f\"The file '{file_path}' does not exist.\")\n",
    "except Exception as e:\n",
    "    print(f\"An unexpected error occurred: {e}\")"
   ]
  },
  {
   "cell_type": "markdown",
   "id": "32c3e6f6-06c6-4add-855b-8e575b07f7be",
   "metadata": {},
   "source": [
    "This way, you can gracefully handle the absence of a file and prevent the program from crashing."
   ]
  },
  {
   "cell_type": "markdown",
   "id": "72a98396-c809-4582-9e88-d9a9c6c2d755",
   "metadata": {},
   "source": [
    "## 7. Module Not Found Error"
   ]
  },
  {
   "cell_type": "markdown",
   "id": "473e2b3c-8226-448d-84d3-71096628e95c",
   "metadata": {},
   "source": [
    "Python raises the ModuleNotFoundError when it can't import a module. This issue may arise if the module isn't installed on your system or in the virtual environment. Sometimes, the error could be due to an incorrect module path or name. Additionally, this error occurs when importing from a package that lacks a ```__init__.py``` file.\n",
    "\n",
    "An example of this errors traceback is provided below:\n",
    "\n",
    "```\n",
    "Traceback (most recent call last):\n",
    "  File \"/home/stanley/code_samples/main.py\", line 1, in <module>\n",
    "    import arrow\n",
    "ModuleNotFoundError: No module named 'arrow'\n",
    "```\n",
    "\n",
    "To resolve this, first check if the module is installed, using ```pip``` for third-party modules. Secondly, verify the accuracy of the module name and file path, as errors here can lead to this issue. Lastly, ensure that Python packages contain a ```__init__.py``` file, necessary for Python to recognize them as valid packages.\n",
    "\n"
   ]
  },
  {
   "cell_type": "markdown",
   "id": "5bbb5734-f7c6-4b69-a7db-194f61d690ee",
   "metadata": {},
   "source": [
    "## 8. Index Error"
   ]
  },
  {
   "cell_type": "markdown",
   "id": "a2f32a4a-1493-4883-b9cb-894b614cf193",
   "metadata": {},
   "source": [
    "An IndexError is often encountered when you attempt to access an index in a sequence, such as a list, tuple, or string, and it is outside the valid range. For instance, trying to access index 4 in a list with only three elements:"
   ]
  },
  {
   "cell_type": "code",
   "execution_count": 28,
   "id": "e8e46d6e-c045-441b-a126-5b63634f5dd7",
   "metadata": {},
   "outputs": [
    {
     "ename": "IndexError",
     "evalue": "list index out of range",
     "output_type": "error",
     "traceback": [
      "\u001b[0;31m---------------------------------------------------------------------------\u001b[0m",
      "\u001b[0;31mIndexError\u001b[0m                                Traceback (most recent call last)",
      "Cell \u001b[0;32mIn[28], line 2\u001b[0m\n\u001b[1;32m      1\u001b[0m numbers \u001b[38;5;241m=\u001b[39m [\u001b[38;5;241m10\u001b[39m, \u001b[38;5;241m20\u001b[39m, \u001b[38;5;241m30\u001b[39m]\n\u001b[0;32m----> 2\u001b[0m \u001b[43mnumbers\u001b[49m\u001b[43m[\u001b[49m\u001b[38;5;241;43m4\u001b[39;49m\u001b[43m]\u001b[49m\n",
      "\u001b[0;31mIndexError\u001b[0m: list index out of range"
     ]
    }
   ],
   "source": [
    "numbers = [10, 20, 30]\n",
    "numbers[4]"
   ]
  },
  {
   "cell_type": "markdown",
   "id": "8c17be14-e229-4b43-9afb-0c3ef3438bac",
   "metadata": {},
   "source": [
    "To prevent IndexError, ensure that the index you're accessing falls within the sequence's valid range. This can be checked by comparing the index with the sequence's length, obtainable using the len() method."
   ]
  },
  {
   "cell_type": "code",
   "execution_count": 29,
   "id": "61c732a4-da01-4d6e-909c-854de259602d",
   "metadata": {},
   "outputs": [],
   "source": [
    "numbers = [10, 20, 30]\n",
    "\n",
    "# Ensure the index is within the range of the list\n",
    "index = 4\n",
    "if index < len(numbers):\n",
    "    print(numbers[index])"
   ]
  },
  {
   "cell_type": "markdown",
   "id": "68dccaa9-096e-4072-8caa-fc681f4ebbf7",
   "metadata": {},
   "source": [
    "# Lab Assignment Problems"
   ]
  },
  {
   "cell_type": "markdown",
   "id": "ac85d3c1-8897-4e18-933b-fd7f7bf901d3",
   "metadata": {},
   "source": [
    "## Question 1"
   ]
  },
  {
   "cell_type": "markdown",
   "id": "b7cbf3bb-a734-49a1-9aa2-913ba6502d99",
   "metadata": {},
   "source": [
    "Create a function called ```letter_grade``` that takes an input number and returns the appropriate letter grade (A, B, C, D, or F). If the user inputs a number outside 0-100, please print a statement saying \"Grades must be between 0 and 100\". "
   ]
  },
  {
   "cell_type": "code",
   "execution_count": null,
   "id": "10c8f9d7-9f8b-4a2e-a561-36dc98241a65",
   "metadata": {},
   "outputs": [],
   "source": []
  },
  {
   "cell_type": "markdown",
   "id": "3317de87-5d5a-47cc-a359-ac0c6e4efb17",
   "metadata": {},
   "source": [
    "Create 3 different unit tests to test your code. What are they?"
   ]
  },
  {
   "cell_type": "markdown",
   "id": "ab0b4aa3-9f81-44db-9588-37f95fbe46ef",
   "metadata": {},
   "source": [
    "## Question 2"
   ]
  },
  {
   "cell_type": "markdown",
   "id": "46bd5ea3-bed2-4d37-be6a-c945df639c35",
   "metadata": {},
   "source": [
    "Create a function called ```calculate_my_grade``` which takes in 5 inputs: labs, quizzes, midterms, final, and project and returns the final calcualted percentage grade in DSC 100. Please see the syllabus for the weights of each type of assignment. "
   ]
  },
  {
   "cell_type": "code",
   "execution_count": null,
   "id": "341a8724-75af-49f1-941d-e95cfd69ebf8",
   "metadata": {},
   "outputs": [],
   "source": []
  },
  {
   "cell_type": "markdown",
   "id": "23703166-0a85-441d-b445-85d8f1aa034f",
   "metadata": {},
   "source": [
    "## Question 3"
   ]
  },
  {
   "cell_type": "markdown",
   "id": "113ec214-61ce-4295-943c-4848cafe4435",
   "metadata": {},
   "source": [
    "Use matplotlib to plot some functions with specific colors, line styles, etc. First, create an equispaced vector x which goes from 0 to 5 with 101 points. Then calculate y1=x^2 and y2 = sqrt(x).\n",
    "\n",
    "Plot the line y=x^2 in purple dashes and the line y=sqrt(x) in yellow dotted lines. Make sure to label your x and y axes."
   ]
  },
  {
   "cell_type": "code",
   "execution_count": null,
   "id": "77f4c3a1-4fe4-4973-9957-8a3e7273ff0d",
   "metadata": {},
   "outputs": [],
   "source": [
    "# import necessary libraries"
   ]
  },
  {
   "cell_type": "markdown",
   "id": "44fb0539-313d-433e-8a10-dafc7c5503ad",
   "metadata": {},
   "source": [
    "## Question 4"
   ]
  },
  {
   "cell_type": "markdown",
   "id": "ea651895-b424-451f-b90d-82fb8429e22b",
   "metadata": {},
   "source": [
    "Create a scatterplot using the random function to generate points. Define a vector x which has 50 random numbers from a standard normal (Gaussian) distribution (mean 0, variance 1). Define a vector y which has 50 random numers from a normal distribution with mean 1 variance 2.  You may find the random function from numpy helpful here.\n",
    "\n",
    "Plot x versus y in a scatter plot."
   ]
  },
  {
   "cell_type": "markdown",
   "id": "5ea80d55-7d38-4a62-a822-88ca5def827d",
   "metadata": {
    "jp-MarkdownHeadingCollapsed": true
   },
   "source": [
    "# References"
   ]
  },
  {
   "cell_type": "markdown",
   "id": "58e4fc60-da41-48cc-aac6-556df9ad8610",
   "metadata": {},
   "source": [
    "1. Erik. “Welcome to the Python Tutorial.” Python Land, Jan. 2025, python.land/python-tutorial. \n",
    "2. Ulili, Stanley. “15 Common Errors in Python and How to Fix Them.” Better Stack Community, Nov. 2024, betterstack.com/community/guides/scaling-python/python-errors/. "
   ]
  }
 ],
 "metadata": {
  "kernelspec": {
   "display_name": "Python 3 (ipykernel)",
   "language": "python",
   "name": "python3"
  },
  "language_info": {
   "codemirror_mode": {
    "name": "ipython",
    "version": 3
   },
   "file_extension": ".py",
   "mimetype": "text/x-python",
   "name": "python",
   "nbconvert_exporter": "python",
   "pygments_lexer": "ipython3",
   "version": "3.11.8"
  }
 },
 "nbformat": 4,
 "nbformat_minor": 5
}
