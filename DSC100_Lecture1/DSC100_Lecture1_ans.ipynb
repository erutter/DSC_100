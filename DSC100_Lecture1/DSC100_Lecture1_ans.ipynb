{
 "cells": [
  {
   "cell_type": "markdown",
   "id": "cd5efd5b-3d81-4fc4-ad1b-dc265a16c03a",
   "metadata": {},
   "source": [
    "# Lecture 1: Introduction to Pandas"
   ]
  },
  {
   "cell_type": "markdown",
   "id": "6b890576-903e-45ed-8169-14525a460b78",
   "metadata": {},
   "source": [
    "In this interactive lab, you will learn a bit about how the powerful open-source library, ```pandas```. ```Pandas``` is an industry-standard library that deals with *structured* data (e.g., tables, dataframes). This will be the first of three lectures that will be dedicated towards learning ```pandas`` with increasing complexity. The coding goals of today's lecture are to understand:\n",
    "\n",
    "1. Introduction to ```pandas```\n",
    "2. What are crucial data structures such as Series and DataFrames?\n",
    "3. How to extract data from data structures\n",
    "\n",
    "Let's begin!"
   ]
  },
  {
   "cell_type": "markdown",
   "id": "8d9582b3-9f58-4cbc-b94a-cb831861baf8",
   "metadata": {},
   "source": [
    "## Introduction to ```pandas```"
   ]
  },
  {
   "cell_type": "markdown",
   "id": "3630a45b-1f11-4ef4-b696-430b69b2c490",
   "metadata": {},
   "source": [
    "```pandas``` is a library for working with data. It generally supports importation, cleaning, merging, and transformation of data. One of the benefits of the library is that it integrates with many other standard python librarys such as ```numpy``` (for arithmetic calculations), ```matplotlib``` (for visualization) and ```scikit-learn``` (for data analysis). \n",
    "\n",
    "First, you will need to import the library. Below is the standard importation for pandas (using the alias pd):"
   ]
  },
  {
   "cell_type": "code",
   "execution_count": 17,
   "id": "7aabe64c-54ed-46b9-8e2c-9f9c5b7d0736",
   "metadata": {},
   "outputs": [],
   "source": [
    "import pandas as pd"
   ]
  },
  {
   "cell_type": "markdown",
   "id": "82d67df9-849a-4191-90ba-98aec19635b5",
   "metadata": {},
   "source": [
    "## Crucial Data Structures"
   ]
  },
  {
   "cell_type": "markdown",
   "id": "5f553dae-81a5-463b-b51f-3328e50f53ae",
   "metadata": {},
   "source": [
    "In ```pandas```, tables are called DataFrames. Each DataFrame is comprised of columns of data which are denoted Series."
   ]
  },
  {
   "cell_type": "markdown",
   "id": "a6b32cf1-87e4-4945-8c92-f0f47a63b767",
   "metadata": {},
   "source": [
    "### Series"
   ]
  },
  {
   "cell_type": "markdown",
   "id": "8beaf6b7-46d0-4bd4-a081-9a4d856185a9",
   "metadata": {},
   "source": [
    "The simplest data structure in ```pandas``` is a Series, which is essentially a column in a table (or a 1D array) that holds data.  You can create a Series from a list of data or otherwise:"
   ]
  },
  {
   "cell_type": "code",
   "execution_count": 18,
   "id": "68679e67-7f78-4b90-bc1d-0b0a5da30994",
   "metadata": {},
   "outputs": [
    {
     "name": "stdout",
     "output_type": "stream",
     "text": [
      "0     4\n",
      "1     2\n",
      "2    25\n",
      "dtype: int64\n"
     ]
    }
   ],
   "source": [
    "my_list = [4, 2, 25]\n",
    "my_Series = pd.Series(my_list)\n",
    "print(my_Series)"
   ]
  },
  {
   "cell_type": "markdown",
   "id": "8d217623-0149-4a4b-a87e-3caebc00287d",
   "metadata": {},
   "source": [
    "The leftmost column indicates the index of the Series (called labels), while the right column contains the data itself. You can use the index to print an element of the Series"
   ]
  },
  {
   "cell_type": "code",
   "execution_count": 19,
   "id": "d74316b6-f800-41c8-b8fa-daa8730c0819",
   "metadata": {},
   "outputs": [
    {
     "name": "stdout",
     "output_type": "stream",
     "text": [
      "25\n"
     ]
    }
   ],
   "source": [
    "print(my_Series[2])"
   ]
  },
  {
   "cell_type": "markdown",
   "id": "64810ae8-a5ba-4c36-9ab4-8dc2550197c5",
   "metadata": {},
   "source": [
    "However, your labels do not need to be the default 0, 1, 2. You can label your Series for clarity:"
   ]
  },
  {
   "cell_type": "code",
   "execution_count": 20,
   "id": "4c421d3f-9f6d-4056-b07d-155559967603",
   "metadata": {},
   "outputs": [
    {
     "data": {
      "text/plain": [
       "Year in College     4\n",
       "# of majors         2\n",
       "Age                25\n",
       "dtype: int64"
      ]
     },
     "execution_count": 20,
     "metadata": {},
     "output_type": "execute_result"
    }
   ],
   "source": [
    "my_labeled_Series = pd.Series(my_list,index = [\"Year in College\", \"# of majors\", \"Age\"])\n",
    "my_labeled_Series"
   ]
  },
  {
   "cell_type": "markdown",
   "id": "6b9fbccc-77c3-4666-b48a-f3f9c8c23dcf",
   "metadata": {},
   "source": [
    "Now you can access the elements of your Series using their label istead of an index number. How can you access the third row of the table?"
   ]
  },
  {
   "cell_type": "code",
   "execution_count": null,
   "id": "cea3bbc9-5c2d-433e-a858-b49b3a16705d",
   "metadata": {},
   "outputs": [],
   "source": []
  },
  {
   "cell_type": "markdown",
   "id": "b3f3674a-0018-4219-9d9f-522c72748150",
   "metadata": {},
   "source": [
    "Although in the above example, we are using numbers (integers) in the Series, pretty much any data type can be used. Let's create a Series called DSC100_Names, which contains the names of everyone in the class"
   ]
  },
  {
   "cell_type": "code",
   "execution_count": 21,
   "id": "71a812ee-6d66-40de-8858-2b32815df0f8",
   "metadata": {},
   "outputs": [],
   "source": [
    "DSC100_Names=pd.Series([\"anna\",\"bob\",\"Charlie\",\"duncan\"])"
   ]
  },
  {
   "cell_type": "markdown",
   "id": "1d9c864b-f1b0-4c8a-ae9f-78ecb485ef58",
   "metadata": {},
   "source": [
    "Series can also be created from dictionaries:"
   ]
  },
  {
   "cell_type": "code",
   "execution_count": 22,
   "id": "e7b7bbdb-6054-4917-8e83-c1d3d5187799",
   "metadata": {},
   "outputs": [
    {
     "data": {
      "text/plain": [
       "Week1     8.7\n",
       "Week2    10.2\n",
       "Week3    11.1\n",
       "dtype: float64"
      ]
     },
     "execution_count": 22,
     "metadata": {},
     "output_type": "execute_result"
    }
   ],
   "source": [
    "distance_ran = {\"Week1\": 8.7, \"Week2\": 10.2, \"Week3\": 11.1}\n",
    "running_Series = pd.Series(distance_ran)\n",
    "running_Series"
   ]
  },
  {
   "cell_type": "markdown",
   "id": "26fcc93e-068a-4668-9ecb-ecc8047ac171",
   "metadata": {},
   "source": [
    "You can also create a Series using only specified data points. For example, if we want a Series that only has Week 1 and Week 3 miles ran, we can do the following:"
   ]
  },
  {
   "cell_type": "code",
   "execution_count": 23,
   "id": "bdb91c44-7437-4805-9af5-84913b982b51",
   "metadata": {},
   "outputs": [
    {
     "data": {
      "text/plain": [
       "Week1     8.7\n",
       "Week3    11.1\n",
       "dtype: float64"
      ]
     },
     "execution_count": 23,
     "metadata": {},
     "output_type": "execute_result"
    }
   ],
   "source": [
    "truncated_running_Series = pd.Series(distance_ran, index=[\"Week1\",\"Week3\"])\n",
    "truncated_running_Series"
   ]
  },
  {
   "cell_type": "markdown",
   "id": "c5f0b752-9816-4638-ac40-35413ea9e050",
   "metadata": {},
   "source": [
    "### DataFrames"
   ]
  },
  {
   "cell_type": "markdown",
   "id": "39fbced9-98f9-45ca-a71c-63d58e354089",
   "metadata": {},
   "source": [
    "Essentially, DataFrames are tables of data. From a coding perspective in ```pandas```, they can be thought of as a collection of Series put together, each of which share the same index. \n",
    "\n",
    "Let's begin by creating a series called DSC100_Years, which contains the information of what year each person in the DSC 100 class is in. "
   ]
  },
  {
   "cell_type": "code",
   "execution_count": 24,
   "id": "71634afa-1ec0-451f-88c6-f551f783d826",
   "metadata": {},
   "outputs": [],
   "source": [
    "DSC100_Years = pd.Series([2, 2, 2 ,4])"
   ]
  },
  {
   "cell_type": "markdown",
   "id": "db1c250f-3eb8-4a3a-9e14-e193c426568c",
   "metadata": {},
   "source": [
    "#### Building DataFrame from Series"
   ]
  },
  {
   "cell_type": "markdown",
   "id": "c38505e2-6e00-493c-a8f0-ae9eadf1710b",
   "metadata": {},
   "source": [
    "Now, if we can put the names and years together into a table, this will be a DataFrame:"
   ]
  },
  {
   "cell_type": "code",
   "execution_count": 25,
   "id": "9269aa6a-91a6-4b60-9f82-9423ab21fafc",
   "metadata": {},
   "outputs": [],
   "source": [
    "DSC100_df = pd.DataFrame([DSC100_Names,DSC100_Years])"
   ]
  },
  {
   "cell_type": "code",
   "execution_count": 26,
   "id": "35523077-b16e-457d-b007-5ffb346cc18e",
   "metadata": {},
   "outputs": [
    {
     "data": {
      "text/html": [
       "<div>\n",
       "<style scoped>\n",
       "    .dataframe tbody tr th:only-of-type {\n",
       "        vertical-align: middle;\n",
       "    }\n",
       "\n",
       "    .dataframe tbody tr th {\n",
       "        vertical-align: top;\n",
       "    }\n",
       "\n",
       "    .dataframe thead th {\n",
       "        text-align: right;\n",
       "    }\n",
       "</style>\n",
       "<table border=\"1\" class=\"dataframe\">\n",
       "  <thead>\n",
       "    <tr style=\"text-align: right;\">\n",
       "      <th></th>\n",
       "      <th>0</th>\n",
       "      <th>1</th>\n",
       "      <th>2</th>\n",
       "      <th>3</th>\n",
       "    </tr>\n",
       "  </thead>\n",
       "  <tbody>\n",
       "    <tr>\n",
       "      <th>0</th>\n",
       "      <td>anna</td>\n",
       "      <td>bob</td>\n",
       "      <td>Charlie</td>\n",
       "      <td>duncan</td>\n",
       "    </tr>\n",
       "    <tr>\n",
       "      <th>1</th>\n",
       "      <td>2</td>\n",
       "      <td>2</td>\n",
       "      <td>2</td>\n",
       "      <td>4</td>\n",
       "    </tr>\n",
       "  </tbody>\n",
       "</table>\n",
       "</div>"
      ],
      "text/plain": [
       "      0    1        2       3\n",
       "0  anna  bob  Charlie  duncan\n",
       "1     2    2        2       4"
      ]
     },
     "execution_count": 26,
     "metadata": {},
     "output_type": "execute_result"
    }
   ],
   "source": [
    "DSC100_df"
   ]
  },
  {
   "cell_type": "markdown",
   "id": "2c772fc0-798b-43b7-8cac-5a0cd72fc9e4",
   "metadata": {},
   "source": [
    "Hmmm....Maybe that's not exactly what we want. I wanted each row to represent a student. How can we do this? \n",
    "- Option 1: concatenate our series\n",
    "- Option 2: create a dictionary from our series "
   ]
  },
  {
   "cell_type": "code",
   "execution_count": 30,
   "id": "4d4ee92c-bbaa-4dfa-8574-0e9b86fe70cf",
   "metadata": {},
   "outputs": [
    {
     "data": {
      "text/html": [
       "<div>\n",
       "<style scoped>\n",
       "    .dataframe tbody tr th:only-of-type {\n",
       "        vertical-align: middle;\n",
       "    }\n",
       "\n",
       "    .dataframe tbody tr th {\n",
       "        vertical-align: top;\n",
       "    }\n",
       "\n",
       "    .dataframe thead th {\n",
       "        text-align: right;\n",
       "    }\n",
       "</style>\n",
       "<table border=\"1\" class=\"dataframe\">\n",
       "  <thead>\n",
       "    <tr style=\"text-align: right;\">\n",
       "      <th></th>\n",
       "      <th>0</th>\n",
       "      <th>1</th>\n",
       "    </tr>\n",
       "  </thead>\n",
       "  <tbody>\n",
       "    <tr>\n",
       "      <th>0</th>\n",
       "      <td>anna</td>\n",
       "      <td>2</td>\n",
       "    </tr>\n",
       "    <tr>\n",
       "      <th>1</th>\n",
       "      <td>bob</td>\n",
       "      <td>2</td>\n",
       "    </tr>\n",
       "    <tr>\n",
       "      <th>2</th>\n",
       "      <td>Charlie</td>\n",
       "      <td>2</td>\n",
       "    </tr>\n",
       "    <tr>\n",
       "      <th>3</th>\n",
       "      <td>duncan</td>\n",
       "      <td>4</td>\n",
       "    </tr>\n",
       "  </tbody>\n",
       "</table>\n",
       "</div>"
      ],
      "text/plain": [
       "         0  1\n",
       "0     anna  2\n",
       "1      bob  2\n",
       "2  Charlie  2\n",
       "3   duncan  4"
      ]
     },
     "execution_count": 30,
     "metadata": {},
     "output_type": "execute_result"
    }
   ],
   "source": [
    "pd.concat([DSC100_Names,DSC100_Years],axis=1)"
   ]
  },
  {
   "cell_type": "markdown",
   "id": "75a16a89-1ead-4651-8e19-3c35bf05a54a",
   "metadata": {},
   "source": [
    "#### Creating DataFrame from Dictionary"
   ]
  },
  {
   "cell_type": "markdown",
   "id": "2ffff12a-8314-4f6b-8a69-79ca2166fd6a",
   "metadata": {},
   "source": [
    "We can first create a dictionary that has the keys Names and Years, then create the DataFrame from that."
   ]
  },
  {
   "cell_type": "code",
   "execution_count": 28,
   "id": "90c1e67f-d7b1-4ff8-a454-f7e759c41e16",
   "metadata": {},
   "outputs": [
    {
     "data": {
      "text/html": [
       "<div>\n",
       "<style scoped>\n",
       "    .dataframe tbody tr th:only-of-type {\n",
       "        vertical-align: middle;\n",
       "    }\n",
       "\n",
       "    .dataframe tbody tr th {\n",
       "        vertical-align: top;\n",
       "    }\n",
       "\n",
       "    .dataframe thead th {\n",
       "        text-align: right;\n",
       "    }\n",
       "</style>\n",
       "<table border=\"1\" class=\"dataframe\">\n",
       "  <thead>\n",
       "    <tr style=\"text-align: right;\">\n",
       "      <th></th>\n",
       "      <th>Names</th>\n",
       "      <th>Years</th>\n",
       "    </tr>\n",
       "  </thead>\n",
       "  <tbody>\n",
       "    <tr>\n",
       "      <th>0</th>\n",
       "      <td>anna</td>\n",
       "      <td>2</td>\n",
       "    </tr>\n",
       "    <tr>\n",
       "      <th>1</th>\n",
       "      <td>bob</td>\n",
       "      <td>2</td>\n",
       "    </tr>\n",
       "    <tr>\n",
       "      <th>2</th>\n",
       "      <td>Charlie</td>\n",
       "      <td>2</td>\n",
       "    </tr>\n",
       "    <tr>\n",
       "      <th>3</th>\n",
       "      <td>duncan</td>\n",
       "      <td>4</td>\n",
       "    </tr>\n",
       "  </tbody>\n",
       "</table>\n",
       "</div>"
      ],
      "text/plain": [
       "     Names  Years\n",
       "0     anna      2\n",
       "1      bob      2\n",
       "2  Charlie      2\n",
       "3   duncan      4"
      ]
     },
     "execution_count": 28,
     "metadata": {},
     "output_type": "execute_result"
    }
   ],
   "source": [
    "DSC100_df_option2 = pd.DataFrame({\"Names\":DSC100_Names,\"Years\":DSC100_Years})\n",
    "DSC100_df_option2"
   ]
  },
  {
   "cell_type": "markdown",
   "id": "3e7f531c-3dfc-4f29-ab54-8a3e6eef027b",
   "metadata": {},
   "source": [
    "#### Reading in a DataFrame from a csv "
   ]
  },
  {
   "cell_type": "markdown",
   "id": "9ca9bade-e138-4900-8d69-ff08771e105b",
   "metadata": {},
   "source": [
    "```pandas``` has the ability to read csv files and automatically put them into DataFrame form. Below, we read in the csv file 'Advertising.csv' as a DataFrame.\n",
    "\n",
    "The Advertising CSV contains 4 columns of information: $\\$$ spent on TV advertising, $\\$$ spent on radio advertising, $\\$$ spent on newspaper adverstising and $\\$$ in sales."
   ]
  },
  {
   "cell_type": "code",
   "execution_count": 33,
   "id": "5e3024d2-a42d-421c-b0a1-011641b212e0",
   "metadata": {},
   "outputs": [
    {
     "data": {
      "text/html": [
       "<div>\n",
       "<style scoped>\n",
       "    .dataframe tbody tr th:only-of-type {\n",
       "        vertical-align: middle;\n",
       "    }\n",
       "\n",
       "    .dataframe tbody tr th {\n",
       "        vertical-align: top;\n",
       "    }\n",
       "\n",
       "    .dataframe thead th {\n",
       "        text-align: right;\n",
       "    }\n",
       "</style>\n",
       "<table border=\"1\" class=\"dataframe\">\n",
       "  <thead>\n",
       "    <tr style=\"text-align: right;\">\n",
       "      <th></th>\n",
       "      <th>TV</th>\n",
       "      <th>radio</th>\n",
       "      <th>newspaper</th>\n",
       "      <th>sales</th>\n",
       "    </tr>\n",
       "  </thead>\n",
       "  <tbody>\n",
       "    <tr>\n",
       "      <th>0</th>\n",
       "      <td>230.1</td>\n",
       "      <td>37.8</td>\n",
       "      <td>69.2</td>\n",
       "      <td>22.1</td>\n",
       "    </tr>\n",
       "    <tr>\n",
       "      <th>1</th>\n",
       "      <td>44.5</td>\n",
       "      <td>39.3</td>\n",
       "      <td>45.1</td>\n",
       "      <td>10.4</td>\n",
       "    </tr>\n",
       "    <tr>\n",
       "      <th>2</th>\n",
       "      <td>17.2</td>\n",
       "      <td>45.9</td>\n",
       "      <td>69.3</td>\n",
       "      <td>9.3</td>\n",
       "    </tr>\n",
       "    <tr>\n",
       "      <th>3</th>\n",
       "      <td>151.5</td>\n",
       "      <td>41.3</td>\n",
       "      <td>58.5</td>\n",
       "      <td>18.5</td>\n",
       "    </tr>\n",
       "    <tr>\n",
       "      <th>4</th>\n",
       "      <td>180.8</td>\n",
       "      <td>10.8</td>\n",
       "      <td>58.4</td>\n",
       "      <td>12.9</td>\n",
       "    </tr>\n",
       "    <tr>\n",
       "      <th>...</th>\n",
       "      <td>...</td>\n",
       "      <td>...</td>\n",
       "      <td>...</td>\n",
       "      <td>...</td>\n",
       "    </tr>\n",
       "    <tr>\n",
       "      <th>195</th>\n",
       "      <td>38.2</td>\n",
       "      <td>3.7</td>\n",
       "      <td>13.8</td>\n",
       "      <td>7.6</td>\n",
       "    </tr>\n",
       "    <tr>\n",
       "      <th>196</th>\n",
       "      <td>94.2</td>\n",
       "      <td>4.9</td>\n",
       "      <td>8.1</td>\n",
       "      <td>9.7</td>\n",
       "    </tr>\n",
       "    <tr>\n",
       "      <th>197</th>\n",
       "      <td>177.0</td>\n",
       "      <td>9.3</td>\n",
       "      <td>6.4</td>\n",
       "      <td>12.8</td>\n",
       "    </tr>\n",
       "    <tr>\n",
       "      <th>198</th>\n",
       "      <td>283.6</td>\n",
       "      <td>42.0</td>\n",
       "      <td>66.2</td>\n",
       "      <td>25.5</td>\n",
       "    </tr>\n",
       "    <tr>\n",
       "      <th>199</th>\n",
       "      <td>232.1</td>\n",
       "      <td>8.6</td>\n",
       "      <td>8.7</td>\n",
       "      <td>13.4</td>\n",
       "    </tr>\n",
       "  </tbody>\n",
       "</table>\n",
       "<p>200 rows × 4 columns</p>\n",
       "</div>"
      ],
      "text/plain": [
       "        TV  radio  newspaper  sales\n",
       "0    230.1   37.8       69.2   22.1\n",
       "1     44.5   39.3       45.1   10.4\n",
       "2     17.2   45.9       69.3    9.3\n",
       "3    151.5   41.3       58.5   18.5\n",
       "4    180.8   10.8       58.4   12.9\n",
       "..     ...    ...        ...    ...\n",
       "195   38.2    3.7       13.8    7.6\n",
       "196   94.2    4.9        8.1    9.7\n",
       "197  177.0    9.3        6.4   12.8\n",
       "198  283.6   42.0       66.2   25.5\n",
       "199  232.1    8.6        8.7   13.4\n",
       "\n",
       "[200 rows x 4 columns]"
      ]
     },
     "execution_count": 33,
     "metadata": {},
     "output_type": "execute_result"
    }
   ],
   "source": [
    "Advertising_df = pd.read_csv('Advertising.csv')\n",
    "Advertising_df"
   ]
  },
  {
   "cell_type": "markdown",
   "id": "325b52cb-4f07-46ca-9571-ba5788d35e4e",
   "metadata": {},
   "source": [
    "Let's show another example. Read in the Auto.csv which represents information about different cars."
   ]
  },
  {
   "cell_type": "code",
   "execution_count": 34,
   "id": "145638a5-951f-41d0-9bf3-c6e1118bfd60",
   "metadata": {},
   "outputs": [
    {
     "data": {
      "text/html": [
       "<div>\n",
       "<style scoped>\n",
       "    .dataframe tbody tr th:only-of-type {\n",
       "        vertical-align: middle;\n",
       "    }\n",
       "\n",
       "    .dataframe tbody tr th {\n",
       "        vertical-align: top;\n",
       "    }\n",
       "\n",
       "    .dataframe thead th {\n",
       "        text-align: right;\n",
       "    }\n",
       "</style>\n",
       "<table border=\"1\" class=\"dataframe\">\n",
       "  <thead>\n",
       "    <tr style=\"text-align: right;\">\n",
       "      <th></th>\n",
       "      <th>mpg</th>\n",
       "      <th>cylinders</th>\n",
       "      <th>displacement</th>\n",
       "      <th>horsepower</th>\n",
       "      <th>weight</th>\n",
       "      <th>acceleration</th>\n",
       "      <th>year</th>\n",
       "      <th>origin</th>\n",
       "      <th>name</th>\n",
       "    </tr>\n",
       "  </thead>\n",
       "  <tbody>\n",
       "    <tr>\n",
       "      <th>0</th>\n",
       "      <td>18.0</td>\n",
       "      <td>8</td>\n",
       "      <td>307.0</td>\n",
       "      <td>130</td>\n",
       "      <td>3504</td>\n",
       "      <td>12.0</td>\n",
       "      <td>70</td>\n",
       "      <td>1</td>\n",
       "      <td>chevrolet chevelle malibu</td>\n",
       "    </tr>\n",
       "    <tr>\n",
       "      <th>1</th>\n",
       "      <td>15.0</td>\n",
       "      <td>8</td>\n",
       "      <td>350.0</td>\n",
       "      <td>165</td>\n",
       "      <td>3693</td>\n",
       "      <td>11.5</td>\n",
       "      <td>70</td>\n",
       "      <td>1</td>\n",
       "      <td>buick skylark 320</td>\n",
       "    </tr>\n",
       "    <tr>\n",
       "      <th>2</th>\n",
       "      <td>18.0</td>\n",
       "      <td>8</td>\n",
       "      <td>318.0</td>\n",
       "      <td>150</td>\n",
       "      <td>3436</td>\n",
       "      <td>11.0</td>\n",
       "      <td>70</td>\n",
       "      <td>1</td>\n",
       "      <td>plymouth satellite</td>\n",
       "    </tr>\n",
       "    <tr>\n",
       "      <th>3</th>\n",
       "      <td>16.0</td>\n",
       "      <td>8</td>\n",
       "      <td>304.0</td>\n",
       "      <td>150</td>\n",
       "      <td>3433</td>\n",
       "      <td>12.0</td>\n",
       "      <td>70</td>\n",
       "      <td>1</td>\n",
       "      <td>amc rebel sst</td>\n",
       "    </tr>\n",
       "    <tr>\n",
       "      <th>4</th>\n",
       "      <td>17.0</td>\n",
       "      <td>8</td>\n",
       "      <td>302.0</td>\n",
       "      <td>140</td>\n",
       "      <td>3449</td>\n",
       "      <td>10.5</td>\n",
       "      <td>70</td>\n",
       "      <td>1</td>\n",
       "      <td>ford torino</td>\n",
       "    </tr>\n",
       "    <tr>\n",
       "      <th>...</th>\n",
       "      <td>...</td>\n",
       "      <td>...</td>\n",
       "      <td>...</td>\n",
       "      <td>...</td>\n",
       "      <td>...</td>\n",
       "      <td>...</td>\n",
       "      <td>...</td>\n",
       "      <td>...</td>\n",
       "      <td>...</td>\n",
       "    </tr>\n",
       "    <tr>\n",
       "      <th>392</th>\n",
       "      <td>27.0</td>\n",
       "      <td>4</td>\n",
       "      <td>140.0</td>\n",
       "      <td>86</td>\n",
       "      <td>2790</td>\n",
       "      <td>15.6</td>\n",
       "      <td>82</td>\n",
       "      <td>1</td>\n",
       "      <td>ford mustang gl</td>\n",
       "    </tr>\n",
       "    <tr>\n",
       "      <th>393</th>\n",
       "      <td>44.0</td>\n",
       "      <td>4</td>\n",
       "      <td>97.0</td>\n",
       "      <td>52</td>\n",
       "      <td>2130</td>\n",
       "      <td>24.6</td>\n",
       "      <td>82</td>\n",
       "      <td>2</td>\n",
       "      <td>vw pickup</td>\n",
       "    </tr>\n",
       "    <tr>\n",
       "      <th>394</th>\n",
       "      <td>32.0</td>\n",
       "      <td>4</td>\n",
       "      <td>135.0</td>\n",
       "      <td>84</td>\n",
       "      <td>2295</td>\n",
       "      <td>11.6</td>\n",
       "      <td>82</td>\n",
       "      <td>1</td>\n",
       "      <td>dodge rampage</td>\n",
       "    </tr>\n",
       "    <tr>\n",
       "      <th>395</th>\n",
       "      <td>28.0</td>\n",
       "      <td>4</td>\n",
       "      <td>120.0</td>\n",
       "      <td>79</td>\n",
       "      <td>2625</td>\n",
       "      <td>18.6</td>\n",
       "      <td>82</td>\n",
       "      <td>1</td>\n",
       "      <td>ford ranger</td>\n",
       "    </tr>\n",
       "    <tr>\n",
       "      <th>396</th>\n",
       "      <td>31.0</td>\n",
       "      <td>4</td>\n",
       "      <td>119.0</td>\n",
       "      <td>82</td>\n",
       "      <td>2720</td>\n",
       "      <td>19.4</td>\n",
       "      <td>82</td>\n",
       "      <td>1</td>\n",
       "      <td>chevy s-10</td>\n",
       "    </tr>\n",
       "  </tbody>\n",
       "</table>\n",
       "<p>397 rows × 9 columns</p>\n",
       "</div>"
      ],
      "text/plain": [
       "      mpg  cylinders  displacement horsepower  weight  acceleration  year  \\\n",
       "0    18.0          8         307.0        130    3504          12.0    70   \n",
       "1    15.0          8         350.0        165    3693          11.5    70   \n",
       "2    18.0          8         318.0        150    3436          11.0    70   \n",
       "3    16.0          8         304.0        150    3433          12.0    70   \n",
       "4    17.0          8         302.0        140    3449          10.5    70   \n",
       "..    ...        ...           ...        ...     ...           ...   ...   \n",
       "392  27.0          4         140.0         86    2790          15.6    82   \n",
       "393  44.0          4          97.0         52    2130          24.6    82   \n",
       "394  32.0          4         135.0         84    2295          11.6    82   \n",
       "395  28.0          4         120.0         79    2625          18.6    82   \n",
       "396  31.0          4         119.0         82    2720          19.4    82   \n",
       "\n",
       "     origin                       name  \n",
       "0         1  chevrolet chevelle malibu  \n",
       "1         1          buick skylark 320  \n",
       "2         1         plymouth satellite  \n",
       "3         1              amc rebel sst  \n",
       "4         1                ford torino  \n",
       "..      ...                        ...  \n",
       "392       1            ford mustang gl  \n",
       "393       2                  vw pickup  \n",
       "394       1              dodge rampage  \n",
       "395       1                ford ranger  \n",
       "396       1                 chevy s-10  \n",
       "\n",
       "[397 rows x 9 columns]"
      ]
     },
     "execution_count": 34,
     "metadata": {},
     "output_type": "execute_result"
    }
   ],
   "source": [
    "Car_df = pd.read_csv('Auto.csv')\n",
    "Car_df"
   ]
  },
  {
   "cell_type": "markdown",
   "id": "62468bdd-6491-42d4-a96b-1ca72d737bcb",
   "metadata": {},
   "source": [
    "It probably makes more sense to have the last column (name) be the index (instead of numbers 0, 1, 2, etc.). We can do that in ```pandas``` too! In fact, we can do it in two different ways:\n",
    "\n",
    "1. set_index command (Car_df.set_index(\"index name\"))\n",
    "2. specify when reading in the csv file which column should be the index column\n",
    "\n",
    "We'll look at the second option below."
   ]
  },
  {
   "cell_type": "code",
   "execution_count": 37,
   "id": "2d6dbda3-84cf-4407-bfad-c6fbe5a0bf63",
   "metadata": {},
   "outputs": [
    {
     "data": {
      "text/html": [
       "<div>\n",
       "<style scoped>\n",
       "    .dataframe tbody tr th:only-of-type {\n",
       "        vertical-align: middle;\n",
       "    }\n",
       "\n",
       "    .dataframe tbody tr th {\n",
       "        vertical-align: top;\n",
       "    }\n",
       "\n",
       "    .dataframe thead th {\n",
       "        text-align: right;\n",
       "    }\n",
       "</style>\n",
       "<table border=\"1\" class=\"dataframe\">\n",
       "  <thead>\n",
       "    <tr style=\"text-align: right;\">\n",
       "      <th></th>\n",
       "      <th>mpg</th>\n",
       "      <th>cylinders</th>\n",
       "      <th>displacement</th>\n",
       "      <th>horsepower</th>\n",
       "      <th>weight</th>\n",
       "      <th>acceleration</th>\n",
       "      <th>year</th>\n",
       "      <th>origin</th>\n",
       "    </tr>\n",
       "    <tr>\n",
       "      <th>name</th>\n",
       "      <th></th>\n",
       "      <th></th>\n",
       "      <th></th>\n",
       "      <th></th>\n",
       "      <th></th>\n",
       "      <th></th>\n",
       "      <th></th>\n",
       "      <th></th>\n",
       "    </tr>\n",
       "  </thead>\n",
       "  <tbody>\n",
       "    <tr>\n",
       "      <th>chevrolet chevelle malibu</th>\n",
       "      <td>18.0</td>\n",
       "      <td>8</td>\n",
       "      <td>307.0</td>\n",
       "      <td>130</td>\n",
       "      <td>3504</td>\n",
       "      <td>12.0</td>\n",
       "      <td>70</td>\n",
       "      <td>1</td>\n",
       "    </tr>\n",
       "    <tr>\n",
       "      <th>buick skylark 320</th>\n",
       "      <td>15.0</td>\n",
       "      <td>8</td>\n",
       "      <td>350.0</td>\n",
       "      <td>165</td>\n",
       "      <td>3693</td>\n",
       "      <td>11.5</td>\n",
       "      <td>70</td>\n",
       "      <td>1</td>\n",
       "    </tr>\n",
       "    <tr>\n",
       "      <th>plymouth satellite</th>\n",
       "      <td>18.0</td>\n",
       "      <td>8</td>\n",
       "      <td>318.0</td>\n",
       "      <td>150</td>\n",
       "      <td>3436</td>\n",
       "      <td>11.0</td>\n",
       "      <td>70</td>\n",
       "      <td>1</td>\n",
       "    </tr>\n",
       "    <tr>\n",
       "      <th>amc rebel sst</th>\n",
       "      <td>16.0</td>\n",
       "      <td>8</td>\n",
       "      <td>304.0</td>\n",
       "      <td>150</td>\n",
       "      <td>3433</td>\n",
       "      <td>12.0</td>\n",
       "      <td>70</td>\n",
       "      <td>1</td>\n",
       "    </tr>\n",
       "    <tr>\n",
       "      <th>ford torino</th>\n",
       "      <td>17.0</td>\n",
       "      <td>8</td>\n",
       "      <td>302.0</td>\n",
       "      <td>140</td>\n",
       "      <td>3449</td>\n",
       "      <td>10.5</td>\n",
       "      <td>70</td>\n",
       "      <td>1</td>\n",
       "    </tr>\n",
       "    <tr>\n",
       "      <th>...</th>\n",
       "      <td>...</td>\n",
       "      <td>...</td>\n",
       "      <td>...</td>\n",
       "      <td>...</td>\n",
       "      <td>...</td>\n",
       "      <td>...</td>\n",
       "      <td>...</td>\n",
       "      <td>...</td>\n",
       "    </tr>\n",
       "    <tr>\n",
       "      <th>ford mustang gl</th>\n",
       "      <td>27.0</td>\n",
       "      <td>4</td>\n",
       "      <td>140.0</td>\n",
       "      <td>86</td>\n",
       "      <td>2790</td>\n",
       "      <td>15.6</td>\n",
       "      <td>82</td>\n",
       "      <td>1</td>\n",
       "    </tr>\n",
       "    <tr>\n",
       "      <th>vw pickup</th>\n",
       "      <td>44.0</td>\n",
       "      <td>4</td>\n",
       "      <td>97.0</td>\n",
       "      <td>52</td>\n",
       "      <td>2130</td>\n",
       "      <td>24.6</td>\n",
       "      <td>82</td>\n",
       "      <td>2</td>\n",
       "    </tr>\n",
       "    <tr>\n",
       "      <th>dodge rampage</th>\n",
       "      <td>32.0</td>\n",
       "      <td>4</td>\n",
       "      <td>135.0</td>\n",
       "      <td>84</td>\n",
       "      <td>2295</td>\n",
       "      <td>11.6</td>\n",
       "      <td>82</td>\n",
       "      <td>1</td>\n",
       "    </tr>\n",
       "    <tr>\n",
       "      <th>ford ranger</th>\n",
       "      <td>28.0</td>\n",
       "      <td>4</td>\n",
       "      <td>120.0</td>\n",
       "      <td>79</td>\n",
       "      <td>2625</td>\n",
       "      <td>18.6</td>\n",
       "      <td>82</td>\n",
       "      <td>1</td>\n",
       "    </tr>\n",
       "    <tr>\n",
       "      <th>chevy s-10</th>\n",
       "      <td>31.0</td>\n",
       "      <td>4</td>\n",
       "      <td>119.0</td>\n",
       "      <td>82</td>\n",
       "      <td>2720</td>\n",
       "      <td>19.4</td>\n",
       "      <td>82</td>\n",
       "      <td>1</td>\n",
       "    </tr>\n",
       "  </tbody>\n",
       "</table>\n",
       "<p>397 rows × 8 columns</p>\n",
       "</div>"
      ],
      "text/plain": [
       "                            mpg  cylinders  displacement horsepower  weight  \\\n",
       "name                                                                          \n",
       "chevrolet chevelle malibu  18.0          8         307.0        130    3504   \n",
       "buick skylark 320          15.0          8         350.0        165    3693   \n",
       "plymouth satellite         18.0          8         318.0        150    3436   \n",
       "amc rebel sst              16.0          8         304.0        150    3433   \n",
       "ford torino                17.0          8         302.0        140    3449   \n",
       "...                         ...        ...           ...        ...     ...   \n",
       "ford mustang gl            27.0          4         140.0         86    2790   \n",
       "vw pickup                  44.0          4          97.0         52    2130   \n",
       "dodge rampage              32.0          4         135.0         84    2295   \n",
       "ford ranger                28.0          4         120.0         79    2625   \n",
       "chevy s-10                 31.0          4         119.0         82    2720   \n",
       "\n",
       "                           acceleration  year  origin  \n",
       "name                                                   \n",
       "chevrolet chevelle malibu          12.0    70       1  \n",
       "buick skylark 320                  11.5    70       1  \n",
       "plymouth satellite                 11.0    70       1  \n",
       "amc rebel sst                      12.0    70       1  \n",
       "ford torino                        10.5    70       1  \n",
       "...                                 ...   ...     ...  \n",
       "ford mustang gl                    15.6    82       1  \n",
       "vw pickup                          24.6    82       2  \n",
       "dodge rampage                      11.6    82       1  \n",
       "ford ranger                        18.6    82       1  \n",
       "chevy s-10                         19.4    82       1  \n",
       "\n",
       "[397 rows x 8 columns]"
      ]
     },
     "execution_count": 37,
     "metadata": {},
     "output_type": "execute_result"
    }
   ],
   "source": [
    "Car_df = pd.read_csv('Auto.csv',index_col=\"name\")\n",
    "Car_df"
   ]
  },
  {
   "cell_type": "markdown",
   "id": "5878a081-4baf-4fcd-b519-5cf304fea1a8",
   "metadata": {},
   "source": [
    "Just like in Series, we can also use indexing to access information. Note that index does not have to be unique! Try it -- you can create a car dataframe using year as the index (which is not unique). If you later regret this, you can always use reset_index() to put it back to the original dataframe.\n",
    "\n",
    "However, **columns** should always have unique names."
   ]
  },
  {
   "cell_type": "markdown",
   "id": "6d4167be-f04e-4ed7-807d-d8d9521a49f8",
   "metadata": {},
   "source": [
    "#### Information about DataFrames"
   ]
  },
  {
   "cell_type": "markdown",
   "id": "43bebdf2-5c7d-418f-971c-8791a8697355",
   "metadata": {},
   "source": [
    "You may want to know the names of the rows/columns of a data frame, or it's shape. The shape will tell you how many data points you have (number of rows)"
   ]
  },
  {
   "cell_type": "code",
   "execution_count": 39,
   "id": "39ec6f8e-2a82-4fd2-ab00-78e69dabcaf6",
   "metadata": {},
   "outputs": [
    {
     "data": {
      "text/plain": [
       "Index(['chevrolet chevelle malibu', 'buick skylark 320', 'plymouth satellite',\n",
       "       'amc rebel sst', 'ford torino', 'ford galaxie 500', 'chevrolet impala',\n",
       "       'plymouth fury iii', 'pontiac catalina', 'amc ambassador dpl',\n",
       "       ...\n",
       "       'chrysler lebaron medallion', 'ford granada l', 'toyota celica gt',\n",
       "       'dodge charger 2.2', 'chevrolet camaro', 'ford mustang gl', 'vw pickup',\n",
       "       'dodge rampage', 'ford ranger', 'chevy s-10'],\n",
       "      dtype='object', name='name', length=397)"
      ]
     },
     "execution_count": 39,
     "metadata": {},
     "output_type": "execute_result"
    }
   ],
   "source": [
    "Car_df.index"
   ]
  },
  {
   "cell_type": "code",
   "execution_count": 40,
   "id": "cbb44fc3-27f1-445a-b1e6-f48b650dbd83",
   "metadata": {},
   "outputs": [
    {
     "data": {
      "text/plain": [
       "Index(['mpg', 'cylinders', 'displacement', 'horsepower', 'weight',\n",
       "       'acceleration', 'year', 'origin'],\n",
       "      dtype='object')"
      ]
     },
     "execution_count": 40,
     "metadata": {},
     "output_type": "execute_result"
    }
   ],
   "source": [
    "Car_df.columns"
   ]
  },
  {
   "cell_type": "code",
   "execution_count": 41,
   "id": "12545aef-d3fc-41eb-941e-e87fdcc67803",
   "metadata": {},
   "outputs": [
    {
     "data": {
      "text/plain": [
       "(397, 8)"
      ]
     },
     "execution_count": 41,
     "metadata": {},
     "output_type": "execute_result"
    }
   ],
   "source": [
    "Car_df.shape"
   ]
  },
  {
   "cell_type": "markdown",
   "id": "8daf6107-9926-4902-a17f-701b6ad9ccca",
   "metadata": {},
   "source": [
    "## Extracting Data from DataFrames"
   ]
  },
  {
   "cell_type": "markdown",
   "id": "629e9d03-5543-41f9-acbe-45c0fb7cf5b6",
   "metadata": {},
   "source": [
    "A lot of times we really want to extract information from DataFrames so that we can analyze it. There are many different ways in which you can extract information (e.g., by columns, or by position). We'll look at each case"
   ]
  },
  {
   "cell_type": "markdown",
   "id": "e28626c6-e247-475f-9761-73dfec43da37",
   "metadata": {},
   "source": [
    "### Label-Based Extraction"
   ]
  },
  {
   "cell_type": "markdown",
   "id": "63eaf4c7-6a20-4074-ac41-14c55d20e667",
   "metadata": {},
   "source": [
    "We can extract information using the ```loc``` command. For the loc command, you need to specify both the row and column information. You will need to specify the *labels* of the row and column. For example, if we want to extract the 10th example in the sales column of the Advertising dataframe"
   ]
  },
  {
   "cell_type": "code",
   "execution_count": 55,
   "id": "0555eabc-3bfb-4575-98ff-3f1f1da97857",
   "metadata": {},
   "outputs": [
    {
     "data": {
      "text/plain": [
       "10.6"
      ]
     },
     "execution_count": 55,
     "metadata": {},
     "output_type": "execute_result"
    }
   ],
   "source": [
    "Advertising_df.loc[9,\"sales\"]"
   ]
  },
  {
   "cell_type": "markdown",
   "id": "0b1577de-5837-4ad7-acdd-a6be260e44d1",
   "metadata": {},
   "source": [
    "You can also do a list of extractions for the ```loc``` command. In that case, you put lists of the information you want. For example, if we want information about the number of cylinders, the year , and the mpg for the plymouth fury iii and the ford gran torino, we can do the following:"
   ]
  },
  {
   "cell_type": "code",
   "execution_count": 58,
   "id": "3c7177b1-19c2-4eb5-9888-da12ad22fb9c",
   "metadata": {},
   "outputs": [
    {
     "data": {
      "text/html": [
       "<div>\n",
       "<style scoped>\n",
       "    .dataframe tbody tr th:only-of-type {\n",
       "        vertical-align: middle;\n",
       "    }\n",
       "\n",
       "    .dataframe tbody tr th {\n",
       "        vertical-align: top;\n",
       "    }\n",
       "\n",
       "    .dataframe thead th {\n",
       "        text-align: right;\n",
       "    }\n",
       "</style>\n",
       "<table border=\"1\" class=\"dataframe\">\n",
       "  <thead>\n",
       "    <tr style=\"text-align: right;\">\n",
       "      <th></th>\n",
       "      <th>cylinders</th>\n",
       "      <th>year</th>\n",
       "      <th>mpg</th>\n",
       "    </tr>\n",
       "    <tr>\n",
       "      <th>name</th>\n",
       "      <th></th>\n",
       "      <th></th>\n",
       "      <th></th>\n",
       "    </tr>\n",
       "  </thead>\n",
       "  <tbody>\n",
       "    <tr>\n",
       "      <th>plymouth fury iii</th>\n",
       "      <td>8</td>\n",
       "      <td>70</td>\n",
       "      <td>14.0</td>\n",
       "    </tr>\n",
       "    <tr>\n",
       "      <th>plymouth fury iii</th>\n",
       "      <td>8</td>\n",
       "      <td>71</td>\n",
       "      <td>14.0</td>\n",
       "    </tr>\n",
       "    <tr>\n",
       "      <th>plymouth fury iii</th>\n",
       "      <td>8</td>\n",
       "      <td>72</td>\n",
       "      <td>15.0</td>\n",
       "    </tr>\n",
       "    <tr>\n",
       "      <th>ford gran torino</th>\n",
       "      <td>8</td>\n",
       "      <td>73</td>\n",
       "      <td>14.0</td>\n",
       "    </tr>\n",
       "    <tr>\n",
       "      <th>ford gran torino</th>\n",
       "      <td>8</td>\n",
       "      <td>74</td>\n",
       "      <td>16.0</td>\n",
       "    </tr>\n",
       "    <tr>\n",
       "      <th>ford gran torino</th>\n",
       "      <td>8</td>\n",
       "      <td>76</td>\n",
       "      <td>14.5</td>\n",
       "    </tr>\n",
       "  </tbody>\n",
       "</table>\n",
       "</div>"
      ],
      "text/plain": [
       "                   cylinders  year   mpg\n",
       "name                                    \n",
       "plymouth fury iii          8    70  14.0\n",
       "plymouth fury iii          8    71  14.0\n",
       "plymouth fury iii          8    72  15.0\n",
       "ford gran torino           8    73  14.0\n",
       "ford gran torino           8    74  16.0\n",
       "ford gran torino           8    76  14.5"
      ]
     },
     "execution_count": 58,
     "metadata": {},
     "output_type": "execute_result"
    }
   ],
   "source": [
    "Car_df.loc[[\"plymouth fury iii\",\"ford gran torino\"],[\"cylinders\",\"year\",\"mpg\"]]"
   ]
  },
  {
   "cell_type": "markdown",
   "id": "250abf62-e2c8-44fb-a518-800699424263",
   "metadata": {},
   "source": [
    "You can also use slicing as a way to examine multiple columns or rows of data. Let's examine up to newspaper (so not including sales). We only want to look at the last 20 rows of data"
   ]
  },
  {
   "cell_type": "code",
   "execution_count": 61,
   "id": "bd231a98-2296-4ebf-9890-d7b09878715b",
   "metadata": {},
   "outputs": [
    {
     "data": {
      "text/html": [
       "<div>\n",
       "<style scoped>\n",
       "    .dataframe tbody tr th:only-of-type {\n",
       "        vertical-align: middle;\n",
       "    }\n",
       "\n",
       "    .dataframe tbody tr th {\n",
       "        vertical-align: top;\n",
       "    }\n",
       "\n",
       "    .dataframe thead th {\n",
       "        text-align: right;\n",
       "    }\n",
       "</style>\n",
       "<table border=\"1\" class=\"dataframe\">\n",
       "  <thead>\n",
       "    <tr style=\"text-align: right;\">\n",
       "      <th></th>\n",
       "      <th>TV</th>\n",
       "      <th>radio</th>\n",
       "      <th>newspaper</th>\n",
       "    </tr>\n",
       "  </thead>\n",
       "  <tbody>\n",
       "    <tr>\n",
       "      <th>1</th>\n",
       "      <td>44.5</td>\n",
       "      <td>39.3</td>\n",
       "      <td>45.1</td>\n",
       "    </tr>\n",
       "    <tr>\n",
       "      <th>25</th>\n",
       "      <td>262.9</td>\n",
       "      <td>3.5</td>\n",
       "      <td>19.5</td>\n",
       "    </tr>\n",
       "    <tr>\n",
       "      <th>184</th>\n",
       "      <td>253.8</td>\n",
       "      <td>21.3</td>\n",
       "      <td>30.0</td>\n",
       "    </tr>\n",
       "  </tbody>\n",
       "</table>\n",
       "</div>"
      ],
      "text/plain": [
       "        TV  radio  newspaper\n",
       "1     44.5   39.3       45.1\n",
       "25   262.9    3.5       19.5\n",
       "184  253.8   21.3       30.0"
      ]
     },
     "execution_count": 61,
     "metadata": {},
     "output_type": "execute_result"
    }
   ],
   "source": [
    "Advertising_df.loc[[1,25,184],:\"newspaper\"]"
   ]
  },
  {
   "cell_type": "markdown",
   "id": "73459730-a045-4265-8e85-5bf9836f787f",
   "metadata": {},
   "source": [
    "We can also extract all rows or all columns of the dataset. For example, we can extract the sales column of the Advertising dataset:"
   ]
  },
  {
   "cell_type": "code",
   "execution_count": null,
   "id": "42925357-2424-4184-bbff-8172336871e0",
   "metadata": {},
   "outputs": [],
   "source": [
    "Advertising_df.loc[:,\"sales\"]"
   ]
  },
  {
   "cell_type": "markdown",
   "id": "f1f51167-87e4-4581-a41c-facd4cf222b6",
   "metadata": {},
   "source": [
    "### Integer-Based Extraction"
   ]
  },
  {
   "cell_type": "markdown",
   "id": "f2d7641a-4c3b-42be-85d0-16b8d5a586a7",
   "metadata": {},
   "source": [
    "If, instead, you want to extract data based on the integer location, you can use ```iloc```. In this case, we will specify the integers (instead of the names) that we want to extract. For example, with the car dataset"
   ]
  },
  {
   "cell_type": "code",
   "execution_count": 62,
   "id": "99865436-516e-40e0-80b5-c7821315d030",
   "metadata": {},
   "outputs": [
    {
     "data": {
      "text/plain": [
       "'165'"
      ]
     },
     "execution_count": 62,
     "metadata": {},
     "output_type": "execute_result"
    }
   ],
   "source": [
    "Car_df.iloc[1,3]"
   ]
  },
  {
   "cell_type": "markdown",
   "id": "8e94a4f0-1859-4846-963d-4ec1e9a6d268",
   "metadata": {},
   "source": [
    "We can also do lists"
   ]
  },
  {
   "cell_type": "code",
   "execution_count": 63,
   "id": "164a07cd-c5f1-4488-8a61-e1965879d031",
   "metadata": {},
   "outputs": [
    {
     "data": {
      "text/html": [
       "<div>\n",
       "<style scoped>\n",
       "    .dataframe tbody tr th:only-of-type {\n",
       "        vertical-align: middle;\n",
       "    }\n",
       "\n",
       "    .dataframe tbody tr th {\n",
       "        vertical-align: top;\n",
       "    }\n",
       "\n",
       "    .dataframe thead th {\n",
       "        text-align: right;\n",
       "    }\n",
       "</style>\n",
       "<table border=\"1\" class=\"dataframe\">\n",
       "  <thead>\n",
       "    <tr style=\"text-align: right;\">\n",
       "      <th></th>\n",
       "      <th>cylinders</th>\n",
       "      <th>displacement</th>\n",
       "      <th>acceleration</th>\n",
       "    </tr>\n",
       "    <tr>\n",
       "      <th>name</th>\n",
       "      <th></th>\n",
       "      <th></th>\n",
       "      <th></th>\n",
       "    </tr>\n",
       "  </thead>\n",
       "  <tbody>\n",
       "    <tr>\n",
       "      <th>chevrolet chevelle malibu</th>\n",
       "      <td>8</td>\n",
       "      <td>307.0</td>\n",
       "      <td>12.0</td>\n",
       "    </tr>\n",
       "    <tr>\n",
       "      <th>buick skylark 320</th>\n",
       "      <td>8</td>\n",
       "      <td>350.0</td>\n",
       "      <td>11.5</td>\n",
       "    </tr>\n",
       "    <tr>\n",
       "      <th>amc rebel sst</th>\n",
       "      <td>8</td>\n",
       "      <td>304.0</td>\n",
       "      <td>12.0</td>\n",
       "    </tr>\n",
       "  </tbody>\n",
       "</table>\n",
       "</div>"
      ],
      "text/plain": [
       "                           cylinders  displacement  acceleration\n",
       "name                                                            \n",
       "chevrolet chevelle malibu          8         307.0          12.0\n",
       "buick skylark 320                  8         350.0          11.5\n",
       "amc rebel sst                      8         304.0          12.0"
      ]
     },
     "execution_count": 63,
     "metadata": {},
     "output_type": "execute_result"
    }
   ],
   "source": [
    "Car_df.iloc[[0,1,3],[1,2,5]]"
   ]
  },
  {
   "cell_type": "markdown",
   "id": "ba6f83ba-3b4b-44fd-b0b4-d6bd4be06d44",
   "metadata": {},
   "source": [
    "...and slices"
   ]
  },
  {
   "cell_type": "code",
   "execution_count": 65,
   "id": "a89cc952-7ce1-454c-9647-42014a4f62b6",
   "metadata": {},
   "outputs": [
    {
     "data": {
      "text/html": [
       "<div>\n",
       "<style scoped>\n",
       "    .dataframe tbody tr th:only-of-type {\n",
       "        vertical-align: middle;\n",
       "    }\n",
       "\n",
       "    .dataframe tbody tr th {\n",
       "        vertical-align: top;\n",
       "    }\n",
       "\n",
       "    .dataframe thead th {\n",
       "        text-align: right;\n",
       "    }\n",
       "</style>\n",
       "<table border=\"1\" class=\"dataframe\">\n",
       "  <thead>\n",
       "    <tr style=\"text-align: right;\">\n",
       "      <th></th>\n",
       "      <th>mpg</th>\n",
       "      <th>cylinders</th>\n",
       "      <th>displacement</th>\n",
       "      <th>horsepower</th>\n",
       "    </tr>\n",
       "    <tr>\n",
       "      <th>name</th>\n",
       "      <th></th>\n",
       "      <th></th>\n",
       "      <th></th>\n",
       "      <th></th>\n",
       "    </tr>\n",
       "  </thead>\n",
       "  <tbody>\n",
       "    <tr>\n",
       "      <th>ford galaxie 500</th>\n",
       "      <td>15.0</td>\n",
       "      <td>8</td>\n",
       "      <td>429.0</td>\n",
       "      <td>198</td>\n",
       "    </tr>\n",
       "    <tr>\n",
       "      <th>chevrolet impala</th>\n",
       "      <td>14.0</td>\n",
       "      <td>8</td>\n",
       "      <td>454.0</td>\n",
       "      <td>220</td>\n",
       "    </tr>\n",
       "    <tr>\n",
       "      <th>plymouth fury iii</th>\n",
       "      <td>14.0</td>\n",
       "      <td>8</td>\n",
       "      <td>440.0</td>\n",
       "      <td>215</td>\n",
       "    </tr>\n",
       "    <tr>\n",
       "      <th>pontiac catalina</th>\n",
       "      <td>14.0</td>\n",
       "      <td>8</td>\n",
       "      <td>455.0</td>\n",
       "      <td>225</td>\n",
       "    </tr>\n",
       "    <tr>\n",
       "      <th>amc ambassador dpl</th>\n",
       "      <td>15.0</td>\n",
       "      <td>8</td>\n",
       "      <td>390.0</td>\n",
       "      <td>190</td>\n",
       "    </tr>\n",
       "  </tbody>\n",
       "</table>\n",
       "</div>"
      ],
      "text/plain": [
       "                     mpg  cylinders  displacement horsepower\n",
       "name                                                        \n",
       "ford galaxie 500    15.0          8         429.0        198\n",
       "chevrolet impala    14.0          8         454.0        220\n",
       "plymouth fury iii   14.0          8         440.0        215\n",
       "pontiac catalina    14.0          8         455.0        225\n",
       "amc ambassador dpl  15.0          8         390.0        190"
      ]
     },
     "execution_count": 65,
     "metadata": {},
     "output_type": "execute_result"
    }
   ],
   "source": [
    "Car_df.iloc[5:10,0:4]"
   ]
  },
  {
   "cell_type": "markdown",
   "id": "407c76a2-eed7-4952-906a-634837fbea43",
   "metadata": {},
   "source": [
    "...or entire rows or columns. To extract the mpg column, we note that it is in the index position 0"
   ]
  },
  {
   "cell_type": "code",
   "execution_count": 66,
   "id": "a0041e9c-6e69-4d2a-88ae-1409a1bd3029",
   "metadata": {},
   "outputs": [
    {
     "data": {
      "text/plain": [
       "name\n",
       "chevrolet chevelle malibu    18.0\n",
       "buick skylark 320            15.0\n",
       "plymouth satellite           18.0\n",
       "amc rebel sst                16.0\n",
       "ford torino                  17.0\n",
       "                             ... \n",
       "ford mustang gl              27.0\n",
       "vw pickup                    44.0\n",
       "dodge rampage                32.0\n",
       "ford ranger                  28.0\n",
       "chevy s-10                   31.0\n",
       "Name: mpg, Length: 397, dtype: float64"
      ]
     },
     "execution_count": 66,
     "metadata": {},
     "output_type": "execute_result"
    }
   ],
   "source": [
    "Car_df.iloc[:,0]"
   ]
  },
  {
   "cell_type": "markdown",
   "id": "6d926c8c-f69e-4ccb-8bce-53148d70e88b",
   "metadata": {},
   "source": [
    "## Putting it all together!"
   ]
  },
  {
   "cell_type": "markdown",
   "id": "32f75483-47d5-4a7f-8079-3660ab5297e4",
   "metadata": {},
   "source": [
    "### Question 1. "
   ]
  },
  {
   "cell_type": "markdown",
   "id": "1dd0826e-6c57-4cb2-b797-3ccae8820e4b",
   "metadata": {},
   "source": [
    "Consider the Advertising dataset. A natural question might be to ask if advertising in media such as tv, newspaper, and radio has any effect on company sales. You will select **one** media (either tv, newspaper, or radio) and create a scatter plot with the money spend on advertising on the x-axis and the company sales on the y axis. To do this, use the following steps:\n",
    "\n",
    "1. extract your selected media column and name it x\n",
    "2. extract teh sales column and name it y\n",
    "3. using matplotlib.pyplot, create the scatter plot\n",
    "\n",
    "Don't forget to label your axes"
   ]
  },
  {
   "cell_type": "code",
   "execution_count": null,
   "id": "2e753893-e4a0-4c3a-9d4e-00a1e41a5c33",
   "metadata": {},
   "outputs": [],
   "source": [
    "import matplotlib.pyplot as plt\n",
    "\n"
   ]
  },
  {
   "cell_type": "markdown",
   "id": "ec5b022a-e97b-45aa-ba9a-7925a5c89584",
   "metadata": {},
   "source": [
    "Looking at your created plot, do you think there is a strong or weak relationship between advertising and sales? Is it a positive or negative relationship? Why do you think that is?"
   ]
  },
  {
   "cell_type": "markdown",
   "id": "6d80834b-a06d-4340-a670-232c798f38a6",
   "metadata": {},
   "source": [
    "### Question 2."
   ]
  },
  {
   "cell_type": "markdown",
   "id": "2651a526-d300-4b34-8b35-25e15838c926",
   "metadata": {},
   "source": [
    "Consider the Auto dataset. To remind yourself of the variables, print out the column names "
   ]
  },
  {
   "cell_type": "code",
   "execution_count": null,
   "id": "ac9aa341-8770-4f51-ae41-3eadd0b2fcb8",
   "metadata": {},
   "outputs": [],
   "source": []
  },
  {
   "cell_type": "markdown",
   "id": "fa6cffc1-bfbc-46cf-89c5-ac9b71b09b17",
   "metadata": {},
   "source": [
    "Looking at your column names, what are two columns that you hypothesize might have a relationship between one another? Why do you hypothesize that a relationship exists between those two variables? What do you anticipate the relationship to look like?\n",
    "\n",
    "To test your hypothesis,\n",
    "\n",
    "1. extract the column that you expect to be independent name it x\n",
    "2. extract the column that is dependent and name it y\n",
    "3. using matplotlib.pyplot, create the scatter plot\n",
    "\n",
    "Don't forget to label your axes!"
   ]
  },
  {
   "cell_type": "code",
   "execution_count": null,
   "id": "91d5245c-4046-41c3-845f-ac1729bed9a8",
   "metadata": {},
   "outputs": [],
   "source": []
  },
  {
   "cell_type": "markdown",
   "id": "1171cf8f-a8f7-4b7c-8781-249e7aa695f4",
   "metadata": {},
   "source": [
    "Looking at your created plot, do you think there is a strong or weak relationship between your variables? Is it a positive or negative relationship? Why do you think that is?"
   ]
  },
  {
   "cell_type": "code",
   "execution_count": null,
   "id": "f32a2e72-1189-47cc-96d6-b29bcb571185",
   "metadata": {},
   "outputs": [],
   "source": []
  }
 ],
 "metadata": {
  "kernelspec": {
   "display_name": "Python 3 (ipykernel)",
   "language": "python",
   "name": "python3"
  },
  "language_info": {
   "codemirror_mode": {
    "name": "ipython",
    "version": 3
   },
   "file_extension": ".py",
   "mimetype": "text/x-python",
   "name": "python",
   "nbconvert_exporter": "python",
   "pygments_lexer": "ipython3",
   "version": "3.11.8"
  }
 },
 "nbformat": 4,
 "nbformat_minor": 5
}
